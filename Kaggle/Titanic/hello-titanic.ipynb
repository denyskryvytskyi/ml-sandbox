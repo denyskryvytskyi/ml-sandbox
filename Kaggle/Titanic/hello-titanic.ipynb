{
 "cells": [
  {
   "cell_type": "code",
   "execution_count": 1,
   "id": "e2c84527",
   "metadata": {
    "_cell_guid": "b1076dfc-b9ad-4769-8c92-a6c4dae69d19",
    "_uuid": "8f2839f25d086af736a60e9eeb907d3b93b6e0e5",
    "execution": {
     "iopub.execute_input": "2023-07-23T09:35:23.246503Z",
     "iopub.status.busy": "2023-07-23T09:35:23.246007Z",
     "iopub.status.idle": "2023-07-23T09:35:24.990295Z",
     "shell.execute_reply": "2023-07-23T09:35:24.989278Z"
    },
    "papermill": {
     "duration": 1.76518,
     "end_time": "2023-07-23T09:35:24.993068",
     "exception": false,
     "start_time": "2023-07-23T09:35:23.227888",
     "status": "completed"
    },
    "tags": []
   },
   "outputs": [],
   "source": [
    "import numpy as np\n",
    "import pandas as pd\n",
    "import matplotlib.pyplot as plt\n",
    "from pandas.plotting import scatter_matrix\n",
    "\n",
    "from sklearn.ensemble import RandomForestClassifier\n",
    "from sklearn.neighbors import KNeighborsClassifier\n",
    "from sklearn.model_selection import cross_val_score, cross_val_predict, GridSearchCV\n",
    "from sklearn.metrics import precision_score, recall_score, accuracy_score\n",
    "from sklearn.impute import SimpleImputer\n",
    "from sklearn.preprocessing import OrdinalEncoder, OneHotEncoder, StandardScaler\n",
    "from sklearn.pipeline import Pipeline\n",
    "from sklearn.compose import ColumnTransformer\n",
    "from sklearn.svm import SVC"
   ]
  },
  {
   "cell_type": "markdown",
   "id": "6b885621",
   "metadata": {
    "papermill": {
     "duration": 0.015301,
     "end_time": "2023-07-23T09:35:25.024845",
     "exception": false,
     "start_time": "2023-07-23T09:35:25.009544",
     "status": "completed"
    },
    "tags": []
   },
   "source": [
    "# Discover and visualize the data"
   ]
  },
  {
   "cell_type": "code",
   "execution_count": 2,
   "id": "859b8fc8",
   "metadata": {
    "execution": {
     "iopub.execute_input": "2023-07-23T09:35:25.057761Z",
     "iopub.status.busy": "2023-07-23T09:35:25.057331Z",
     "iopub.status.idle": "2023-07-23T09:35:25.113262Z",
     "shell.execute_reply": "2023-07-23T09:35:25.112152Z"
    },
    "papermill": {
     "duration": 0.075268,
     "end_time": "2023-07-23T09:35:25.115920",
     "exception": false,
     "start_time": "2023-07-23T09:35:25.040652",
     "status": "completed"
    },
    "tags": []
   },
   "outputs": [
    {
     "data": {
      "text/html": [
       "<div>\n",
       "<style scoped>\n",
       "    .dataframe tbody tr th:only-of-type {\n",
       "        vertical-align: middle;\n",
       "    }\n",
       "\n",
       "    .dataframe tbody tr th {\n",
       "        vertical-align: top;\n",
       "    }\n",
       "\n",
       "    .dataframe thead th {\n",
       "        text-align: right;\n",
       "    }\n",
       "</style>\n",
       "<table border=\"1\" class=\"dataframe\">\n",
       "  <thead>\n",
       "    <tr style=\"text-align: right;\">\n",
       "      <th></th>\n",
       "      <th>PassengerId</th>\n",
       "      <th>Survived</th>\n",
       "      <th>Pclass</th>\n",
       "      <th>Name</th>\n",
       "      <th>Sex</th>\n",
       "      <th>Age</th>\n",
       "      <th>SibSp</th>\n",
       "      <th>Parch</th>\n",
       "      <th>Ticket</th>\n",
       "      <th>Fare</th>\n",
       "      <th>Cabin</th>\n",
       "      <th>Embarked</th>\n",
       "    </tr>\n",
       "  </thead>\n",
       "  <tbody>\n",
       "    <tr>\n",
       "      <th>0</th>\n",
       "      <td>1</td>\n",
       "      <td>0</td>\n",
       "      <td>3</td>\n",
       "      <td>Braund, Mr. Owen Harris</td>\n",
       "      <td>male</td>\n",
       "      <td>22.0</td>\n",
       "      <td>1</td>\n",
       "      <td>0</td>\n",
       "      <td>A/5 21171</td>\n",
       "      <td>7.2500</td>\n",
       "      <td>NaN</td>\n",
       "      <td>S</td>\n",
       "    </tr>\n",
       "    <tr>\n",
       "      <th>1</th>\n",
       "      <td>2</td>\n",
       "      <td>1</td>\n",
       "      <td>1</td>\n",
       "      <td>Cumings, Mrs. John Bradley (Florence Briggs Th...</td>\n",
       "      <td>female</td>\n",
       "      <td>38.0</td>\n",
       "      <td>1</td>\n",
       "      <td>0</td>\n",
       "      <td>PC 17599</td>\n",
       "      <td>71.2833</td>\n",
       "      <td>C85</td>\n",
       "      <td>C</td>\n",
       "    </tr>\n",
       "    <tr>\n",
       "      <th>2</th>\n",
       "      <td>3</td>\n",
       "      <td>1</td>\n",
       "      <td>3</td>\n",
       "      <td>Heikkinen, Miss. Laina</td>\n",
       "      <td>female</td>\n",
       "      <td>26.0</td>\n",
       "      <td>0</td>\n",
       "      <td>0</td>\n",
       "      <td>STON/O2. 3101282</td>\n",
       "      <td>7.9250</td>\n",
       "      <td>NaN</td>\n",
       "      <td>S</td>\n",
       "    </tr>\n",
       "    <tr>\n",
       "      <th>3</th>\n",
       "      <td>4</td>\n",
       "      <td>1</td>\n",
       "      <td>1</td>\n",
       "      <td>Futrelle, Mrs. Jacques Heath (Lily May Peel)</td>\n",
       "      <td>female</td>\n",
       "      <td>35.0</td>\n",
       "      <td>1</td>\n",
       "      <td>0</td>\n",
       "      <td>113803</td>\n",
       "      <td>53.1000</td>\n",
       "      <td>C123</td>\n",
       "      <td>S</td>\n",
       "    </tr>\n",
       "    <tr>\n",
       "      <th>4</th>\n",
       "      <td>5</td>\n",
       "      <td>0</td>\n",
       "      <td>3</td>\n",
       "      <td>Allen, Mr. William Henry</td>\n",
       "      <td>male</td>\n",
       "      <td>35.0</td>\n",
       "      <td>0</td>\n",
       "      <td>0</td>\n",
       "      <td>373450</td>\n",
       "      <td>8.0500</td>\n",
       "      <td>NaN</td>\n",
       "      <td>S</td>\n",
       "    </tr>\n",
       "  </tbody>\n",
       "</table>\n",
       "</div>"
      ],
      "text/plain": [
       "   PassengerId  Survived  Pclass  \\\n",
       "0            1         0       3   \n",
       "1            2         1       1   \n",
       "2            3         1       3   \n",
       "3            4         1       1   \n",
       "4            5         0       3   \n",
       "\n",
       "                                                Name     Sex   Age  SibSp  \\\n",
       "0                            Braund, Mr. Owen Harris    male  22.0      1   \n",
       "1  Cumings, Mrs. John Bradley (Florence Briggs Th...  female  38.0      1   \n",
       "2                             Heikkinen, Miss. Laina  female  26.0      0   \n",
       "3       Futrelle, Mrs. Jacques Heath (Lily May Peel)  female  35.0      1   \n",
       "4                           Allen, Mr. William Henry    male  35.0      0   \n",
       "\n",
       "   Parch            Ticket     Fare Cabin Embarked  \n",
       "0      0         A/5 21171   7.2500   NaN        S  \n",
       "1      0          PC 17599  71.2833   C85        C  \n",
       "2      0  STON/O2. 3101282   7.9250   NaN        S  \n",
       "3      0            113803  53.1000  C123        S  \n",
       "4      0            373450   8.0500   NaN        S  "
      ]
     },
     "execution_count": 2,
     "metadata": {},
     "output_type": "execute_result"
    }
   ],
   "source": [
    "train_data = pd.read_csv('/kaggle/input/titanic/train.csv')\n",
    "train_data.head()"
   ]
  },
  {
   "cell_type": "code",
   "execution_count": 3,
   "id": "87d20494",
   "metadata": {
    "execution": {
     "iopub.execute_input": "2023-07-23T09:35:25.150257Z",
     "iopub.status.busy": "2023-07-23T09:35:25.149865Z",
     "iopub.status.idle": "2023-07-23T09:35:25.175034Z",
     "shell.execute_reply": "2023-07-23T09:35:25.173798Z"
    },
    "papermill": {
     "duration": 0.045427,
     "end_time": "2023-07-23T09:35:25.177572",
     "exception": false,
     "start_time": "2023-07-23T09:35:25.132145",
     "status": "completed"
    },
    "tags": []
   },
   "outputs": [
    {
     "name": "stdout",
     "output_type": "stream",
     "text": [
      "<class 'pandas.core.frame.DataFrame'>\n",
      "RangeIndex: 891 entries, 0 to 890\n",
      "Data columns (total 12 columns):\n",
      " #   Column       Non-Null Count  Dtype  \n",
      "---  ------       --------------  -----  \n",
      " 0   PassengerId  891 non-null    int64  \n",
      " 1   Survived     891 non-null    int64  \n",
      " 2   Pclass       891 non-null    int64  \n",
      " 3   Name         891 non-null    object \n",
      " 4   Sex          891 non-null    object \n",
      " 5   Age          714 non-null    float64\n",
      " 6   SibSp        891 non-null    int64  \n",
      " 7   Parch        891 non-null    int64  \n",
      " 8   Ticket       891 non-null    object \n",
      " 9   Fare         891 non-null    float64\n",
      " 10  Cabin        204 non-null    object \n",
      " 11  Embarked     889 non-null    object \n",
      "dtypes: float64(2), int64(5), object(5)\n",
      "memory usage: 83.7+ KB\n"
     ]
    }
   ],
   "source": [
    "train_data.info()"
   ]
  },
  {
   "cell_type": "code",
   "execution_count": 4,
   "id": "3b3b5bfa",
   "metadata": {
    "execution": {
     "iopub.execute_input": "2023-07-23T09:35:25.210897Z",
     "iopub.status.busy": "2023-07-23T09:35:25.210513Z",
     "iopub.status.idle": "2023-07-23T09:35:25.233507Z",
     "shell.execute_reply": "2023-07-23T09:35:25.232447Z"
    },
    "papermill": {
     "duration": 0.041826,
     "end_time": "2023-07-23T09:35:25.235693",
     "exception": false,
     "start_time": "2023-07-23T09:35:25.193867",
     "status": "completed"
    },
    "tags": []
   },
   "outputs": [
    {
     "data": {
      "text/html": [
       "<div>\n",
       "<style scoped>\n",
       "    .dataframe tbody tr th:only-of-type {\n",
       "        vertical-align: middle;\n",
       "    }\n",
       "\n",
       "    .dataframe tbody tr th {\n",
       "        vertical-align: top;\n",
       "    }\n",
       "\n",
       "    .dataframe thead th {\n",
       "        text-align: right;\n",
       "    }\n",
       "</style>\n",
       "<table border=\"1\" class=\"dataframe\">\n",
       "  <thead>\n",
       "    <tr style=\"text-align: right;\">\n",
       "      <th></th>\n",
       "      <th>PassengerId</th>\n",
       "      <th>Pclass</th>\n",
       "      <th>Name</th>\n",
       "      <th>Sex</th>\n",
       "      <th>Age</th>\n",
       "      <th>SibSp</th>\n",
       "      <th>Parch</th>\n",
       "      <th>Ticket</th>\n",
       "      <th>Fare</th>\n",
       "      <th>Cabin</th>\n",
       "      <th>Embarked</th>\n",
       "    </tr>\n",
       "  </thead>\n",
       "  <tbody>\n",
       "    <tr>\n",
       "      <th>0</th>\n",
       "      <td>892</td>\n",
       "      <td>3</td>\n",
       "      <td>Kelly, Mr. James</td>\n",
       "      <td>male</td>\n",
       "      <td>34.5</td>\n",
       "      <td>0</td>\n",
       "      <td>0</td>\n",
       "      <td>330911</td>\n",
       "      <td>7.8292</td>\n",
       "      <td>NaN</td>\n",
       "      <td>Q</td>\n",
       "    </tr>\n",
       "    <tr>\n",
       "      <th>1</th>\n",
       "      <td>893</td>\n",
       "      <td>3</td>\n",
       "      <td>Wilkes, Mrs. James (Ellen Needs)</td>\n",
       "      <td>female</td>\n",
       "      <td>47.0</td>\n",
       "      <td>1</td>\n",
       "      <td>0</td>\n",
       "      <td>363272</td>\n",
       "      <td>7.0000</td>\n",
       "      <td>NaN</td>\n",
       "      <td>S</td>\n",
       "    </tr>\n",
       "    <tr>\n",
       "      <th>2</th>\n",
       "      <td>894</td>\n",
       "      <td>2</td>\n",
       "      <td>Myles, Mr. Thomas Francis</td>\n",
       "      <td>male</td>\n",
       "      <td>62.0</td>\n",
       "      <td>0</td>\n",
       "      <td>0</td>\n",
       "      <td>240276</td>\n",
       "      <td>9.6875</td>\n",
       "      <td>NaN</td>\n",
       "      <td>Q</td>\n",
       "    </tr>\n",
       "    <tr>\n",
       "      <th>3</th>\n",
       "      <td>895</td>\n",
       "      <td>3</td>\n",
       "      <td>Wirz, Mr. Albert</td>\n",
       "      <td>male</td>\n",
       "      <td>27.0</td>\n",
       "      <td>0</td>\n",
       "      <td>0</td>\n",
       "      <td>315154</td>\n",
       "      <td>8.6625</td>\n",
       "      <td>NaN</td>\n",
       "      <td>S</td>\n",
       "    </tr>\n",
       "    <tr>\n",
       "      <th>4</th>\n",
       "      <td>896</td>\n",
       "      <td>3</td>\n",
       "      <td>Hirvonen, Mrs. Alexander (Helga E Lindqvist)</td>\n",
       "      <td>female</td>\n",
       "      <td>22.0</td>\n",
       "      <td>1</td>\n",
       "      <td>1</td>\n",
       "      <td>3101298</td>\n",
       "      <td>12.2875</td>\n",
       "      <td>NaN</td>\n",
       "      <td>S</td>\n",
       "    </tr>\n",
       "  </tbody>\n",
       "</table>\n",
       "</div>"
      ],
      "text/plain": [
       "   PassengerId  Pclass                                          Name     Sex  \\\n",
       "0          892       3                              Kelly, Mr. James    male   \n",
       "1          893       3              Wilkes, Mrs. James (Ellen Needs)  female   \n",
       "2          894       2                     Myles, Mr. Thomas Francis    male   \n",
       "3          895       3                              Wirz, Mr. Albert    male   \n",
       "4          896       3  Hirvonen, Mrs. Alexander (Helga E Lindqvist)  female   \n",
       "\n",
       "    Age  SibSp  Parch   Ticket     Fare Cabin Embarked  \n",
       "0  34.5      0      0   330911   7.8292   NaN        Q  \n",
       "1  47.0      1      0   363272   7.0000   NaN        S  \n",
       "2  62.0      0      0   240276   9.6875   NaN        Q  \n",
       "3  27.0      0      0   315154   8.6625   NaN        S  \n",
       "4  22.0      1      1  3101298  12.2875   NaN        S  "
      ]
     },
     "execution_count": 4,
     "metadata": {},
     "output_type": "execute_result"
    }
   ],
   "source": [
    "test_data = pd.read_csv('/kaggle/input/titanic/test.csv')\n",
    "test_data.head()"
   ]
  },
  {
   "cell_type": "code",
   "execution_count": 5,
   "id": "61cfc9a8",
   "metadata": {
    "execution": {
     "iopub.execute_input": "2023-07-23T09:35:25.269794Z",
     "iopub.status.busy": "2023-07-23T09:35:25.269351Z",
     "iopub.status.idle": "2023-07-23T09:35:25.283269Z",
     "shell.execute_reply": "2023-07-23T09:35:25.282072Z"
    },
    "papermill": {
     "duration": 0.034004,
     "end_time": "2023-07-23T09:35:25.285559",
     "exception": false,
     "start_time": "2023-07-23T09:35:25.251555",
     "status": "completed"
    },
    "tags": []
   },
   "outputs": [
    {
     "name": "stdout",
     "output_type": "stream",
     "text": [
      "<class 'pandas.core.frame.DataFrame'>\n",
      "RangeIndex: 418 entries, 0 to 417\n",
      "Data columns (total 11 columns):\n",
      " #   Column       Non-Null Count  Dtype  \n",
      "---  ------       --------------  -----  \n",
      " 0   PassengerId  418 non-null    int64  \n",
      " 1   Pclass       418 non-null    int64  \n",
      " 2   Name         418 non-null    object \n",
      " 3   Sex          418 non-null    object \n",
      " 4   Age          332 non-null    float64\n",
      " 5   SibSp        418 non-null    int64  \n",
      " 6   Parch        418 non-null    int64  \n",
      " 7   Ticket       418 non-null    object \n",
      " 8   Fare         417 non-null    float64\n",
      " 9   Cabin        91 non-null     object \n",
      " 10  Embarked     418 non-null    object \n",
      "dtypes: float64(2), int64(4), object(5)\n",
      "memory usage: 36.0+ KB\n"
     ]
    }
   ],
   "source": [
    "test_data.info()"
   ]
  },
  {
   "cell_type": "markdown",
   "id": "7c7a9ea7",
   "metadata": {
    "papermill": {
     "duration": 0.016296,
     "end_time": "2023-07-23T09:35:25.318205",
     "exception": false,
     "start_time": "2023-07-23T09:35:25.301909",
     "status": "completed"
    },
    "tags": []
   },
   "source": [
    "As we can see we have attributes with different types:\n",
    "* numerical - PassengerId, Survived, Pclass, Age, SibSp, Parch, Fare\n",
    "* string - Name\n",
    "* categorial - Sex, Ticket, Cabin, Embarked\n",
    "\n",
    "Let's gain insights into every type."
   ]
  },
  {
   "cell_type": "markdown",
   "id": "a6c59efb",
   "metadata": {
    "papermill": {
     "duration": 0.015928,
     "end_time": "2023-07-23T09:35:25.350699",
     "exception": false,
     "start_time": "2023-07-23T09:35:25.334771",
     "status": "completed"
    },
    "tags": []
   },
   "source": [
    "#### Numerical data"
   ]
  },
  {
   "cell_type": "code",
   "execution_count": 6,
   "id": "86fcba2b",
   "metadata": {
    "execution": {
     "iopub.execute_input": "2023-07-23T09:35:25.384939Z",
     "iopub.status.busy": "2023-07-23T09:35:25.384569Z",
     "iopub.status.idle": "2023-07-23T09:35:25.423146Z",
     "shell.execute_reply": "2023-07-23T09:35:25.421959Z"
    },
    "papermill": {
     "duration": 0.058758,
     "end_time": "2023-07-23T09:35:25.425697",
     "exception": false,
     "start_time": "2023-07-23T09:35:25.366939",
     "status": "completed"
    },
    "tags": []
   },
   "outputs": [
    {
     "data": {
      "text/html": [
       "<div>\n",
       "<style scoped>\n",
       "    .dataframe tbody tr th:only-of-type {\n",
       "        vertical-align: middle;\n",
       "    }\n",
       "\n",
       "    .dataframe tbody tr th {\n",
       "        vertical-align: top;\n",
       "    }\n",
       "\n",
       "    .dataframe thead th {\n",
       "        text-align: right;\n",
       "    }\n",
       "</style>\n",
       "<table border=\"1\" class=\"dataframe\">\n",
       "  <thead>\n",
       "    <tr style=\"text-align: right;\">\n",
       "      <th></th>\n",
       "      <th>PassengerId</th>\n",
       "      <th>Survived</th>\n",
       "      <th>Pclass</th>\n",
       "      <th>Age</th>\n",
       "      <th>SibSp</th>\n",
       "      <th>Parch</th>\n",
       "      <th>Fare</th>\n",
       "    </tr>\n",
       "  </thead>\n",
       "  <tbody>\n",
       "    <tr>\n",
       "      <th>count</th>\n",
       "      <td>891.000000</td>\n",
       "      <td>891.000000</td>\n",
       "      <td>891.000000</td>\n",
       "      <td>714.000000</td>\n",
       "      <td>891.000000</td>\n",
       "      <td>891.000000</td>\n",
       "      <td>891.000000</td>\n",
       "    </tr>\n",
       "    <tr>\n",
       "      <th>mean</th>\n",
       "      <td>446.000000</td>\n",
       "      <td>0.383838</td>\n",
       "      <td>2.308642</td>\n",
       "      <td>29.699118</td>\n",
       "      <td>0.523008</td>\n",
       "      <td>0.381594</td>\n",
       "      <td>32.204208</td>\n",
       "    </tr>\n",
       "    <tr>\n",
       "      <th>std</th>\n",
       "      <td>257.353842</td>\n",
       "      <td>0.486592</td>\n",
       "      <td>0.836071</td>\n",
       "      <td>14.526497</td>\n",
       "      <td>1.102743</td>\n",
       "      <td>0.806057</td>\n",
       "      <td>49.693429</td>\n",
       "    </tr>\n",
       "    <tr>\n",
       "      <th>min</th>\n",
       "      <td>1.000000</td>\n",
       "      <td>0.000000</td>\n",
       "      <td>1.000000</td>\n",
       "      <td>0.420000</td>\n",
       "      <td>0.000000</td>\n",
       "      <td>0.000000</td>\n",
       "      <td>0.000000</td>\n",
       "    </tr>\n",
       "    <tr>\n",
       "      <th>25%</th>\n",
       "      <td>223.500000</td>\n",
       "      <td>0.000000</td>\n",
       "      <td>2.000000</td>\n",
       "      <td>20.125000</td>\n",
       "      <td>0.000000</td>\n",
       "      <td>0.000000</td>\n",
       "      <td>7.910400</td>\n",
       "    </tr>\n",
       "    <tr>\n",
       "      <th>50%</th>\n",
       "      <td>446.000000</td>\n",
       "      <td>0.000000</td>\n",
       "      <td>3.000000</td>\n",
       "      <td>28.000000</td>\n",
       "      <td>0.000000</td>\n",
       "      <td>0.000000</td>\n",
       "      <td>14.454200</td>\n",
       "    </tr>\n",
       "    <tr>\n",
       "      <th>75%</th>\n",
       "      <td>668.500000</td>\n",
       "      <td>1.000000</td>\n",
       "      <td>3.000000</td>\n",
       "      <td>38.000000</td>\n",
       "      <td>1.000000</td>\n",
       "      <td>0.000000</td>\n",
       "      <td>31.000000</td>\n",
       "    </tr>\n",
       "    <tr>\n",
       "      <th>max</th>\n",
       "      <td>891.000000</td>\n",
       "      <td>1.000000</td>\n",
       "      <td>3.000000</td>\n",
       "      <td>80.000000</td>\n",
       "      <td>8.000000</td>\n",
       "      <td>6.000000</td>\n",
       "      <td>512.329200</td>\n",
       "    </tr>\n",
       "  </tbody>\n",
       "</table>\n",
       "</div>"
      ],
      "text/plain": [
       "       PassengerId    Survived      Pclass         Age       SibSp  \\\n",
       "count   891.000000  891.000000  891.000000  714.000000  891.000000   \n",
       "mean    446.000000    0.383838    2.308642   29.699118    0.523008   \n",
       "std     257.353842    0.486592    0.836071   14.526497    1.102743   \n",
       "min       1.000000    0.000000    1.000000    0.420000    0.000000   \n",
       "25%     223.500000    0.000000    2.000000   20.125000    0.000000   \n",
       "50%     446.000000    0.000000    3.000000   28.000000    0.000000   \n",
       "75%     668.500000    1.000000    3.000000   38.000000    1.000000   \n",
       "max     891.000000    1.000000    3.000000   80.000000    8.000000   \n",
       "\n",
       "            Parch        Fare  \n",
       "count  891.000000  891.000000  \n",
       "mean     0.381594   32.204208  \n",
       "std      0.806057   49.693429  \n",
       "min      0.000000    0.000000  \n",
       "25%      0.000000    7.910400  \n",
       "50%      0.000000   14.454200  \n",
       "75%      0.000000   31.000000  \n",
       "max      6.000000  512.329200  "
      ]
     },
     "execution_count": 6,
     "metadata": {},
     "output_type": "execute_result"
    }
   ],
   "source": [
    "train_data.describe()"
   ]
  },
  {
   "cell_type": "code",
   "execution_count": 7,
   "id": "b2d51b7a",
   "metadata": {
    "execution": {
     "iopub.execute_input": "2023-07-23T09:35:25.462041Z",
     "iopub.status.busy": "2023-07-23T09:35:25.461672Z",
     "iopub.status.idle": "2023-07-23T09:35:27.425752Z",
     "shell.execute_reply": "2023-07-23T09:35:27.424171Z"
    },
    "papermill": {
     "duration": 1.986664,
     "end_time": "2023-07-23T09:35:27.429293",
     "exception": false,
     "start_time": "2023-07-23T09:35:25.442629",
     "status": "completed"
    },
    "tags": []
   },
   "outputs": [
    {
     "data": {
      "image/png": "[encoded data removed]",
      "text/plain": [
       "<Figure size 2000x1500 with 6 Axes>"
      ]
     },
     "metadata": {},
     "output_type": "display_data"
    }
   ],
   "source": [
    "train_data[['Survived', 'Pclass', 'Age', 'SibSp', 'Parch', 'Fare']].hist(bins=50, figsize=(20,15))\n",
    "plt.show()"
   ]
  },
  {
   "cell_type": "markdown",
   "id": "1a755ef3",
   "metadata": {
    "papermill": {
     "duration": 0.023649,
     "end_time": "2023-07-23T09:35:27.473113",
     "exception": false,
     "start_time": "2023-07-23T09:35:27.449464",
     "status": "completed"
    },
    "tags": []
   },
   "source": [
    "#### Categorial data"
   ]
  },
  {
   "cell_type": "code",
   "execution_count": 8,
   "id": "5f33c2fa",
   "metadata": {
    "execution": {
     "iopub.execute_input": "2023-07-23T09:35:27.517910Z",
     "iopub.status.busy": "2023-07-23T09:35:27.517499Z",
     "iopub.status.idle": "2023-07-23T09:35:27.525970Z",
     "shell.execute_reply": "2023-07-23T09:35:27.524960Z"
    },
    "papermill": {
     "duration": 0.034968,
     "end_time": "2023-07-23T09:35:27.528042",
     "exception": false,
     "start_time": "2023-07-23T09:35:27.493074",
     "status": "completed"
    },
    "tags": []
   },
   "outputs": [
    {
     "data": {
      "text/plain": [
       "male      577\n",
       "female    314\n",
       "Name: Sex, dtype: int64"
      ]
     },
     "execution_count": 8,
     "metadata": {},
     "output_type": "execute_result"
    }
   ],
   "source": [
    "# Sex, Ticket, Cabin, Embarked\n",
    "\n",
    "train_data['Sex'].value_counts()"
   ]
  },
  {
   "cell_type": "code",
   "execution_count": 9,
   "id": "6722ee54",
   "metadata": {
    "execution": {
     "iopub.execute_input": "2023-07-23T09:35:27.565500Z",
     "iopub.status.busy": "2023-07-23T09:35:27.564801Z",
     "iopub.status.idle": "2023-07-23T09:35:27.574277Z",
     "shell.execute_reply": "2023-07-23T09:35:27.573161Z"
    },
    "papermill": {
     "duration": 0.030952,
     "end_time": "2023-07-23T09:35:27.576570",
     "exception": false,
     "start_time": "2023-07-23T09:35:27.545618",
     "status": "completed"
    },
    "tags": []
   },
   "outputs": [
    {
     "data": {
      "text/plain": [
       "347082      7\n",
       "CA. 2343    7\n",
       "1601        7\n",
       "3101295     6\n",
       "CA 2144     6\n",
       "           ..\n",
       "9234        1\n",
       "19988       1\n",
       "2693        1\n",
       "PC 17612    1\n",
       "370376      1\n",
       "Name: Ticket, Length: 681, dtype: int64"
      ]
     },
     "execution_count": 9,
     "metadata": {},
     "output_type": "execute_result"
    }
   ],
   "source": [
    "train_data['Ticket'].value_counts()"
   ]
  },
  {
   "cell_type": "code",
   "execution_count": 10,
   "id": "b44cc0b3",
   "metadata": {
    "execution": {
     "iopub.execute_input": "2023-07-23T09:35:27.613507Z",
     "iopub.status.busy": "2023-07-23T09:35:27.612846Z",
     "iopub.status.idle": "2023-07-23T09:35:27.621778Z",
     "shell.execute_reply": "2023-07-23T09:35:27.620805Z"
    },
    "papermill": {
     "duration": 0.029493,
     "end_time": "2023-07-23T09:35:27.623825",
     "exception": false,
     "start_time": "2023-07-23T09:35:27.594332",
     "status": "completed"
    },
    "tags": []
   },
   "outputs": [
    {
     "data": {
      "text/plain": [
       "B96 B98        4\n",
       "G6             4\n",
       "C23 C25 C27    4\n",
       "C22 C26        3\n",
       "F33            3\n",
       "              ..\n",
       "E34            1\n",
       "C7             1\n",
       "C54            1\n",
       "E36            1\n",
       "C148           1\n",
       "Name: Cabin, Length: 147, dtype: int64"
      ]
     },
     "execution_count": 10,
     "metadata": {},
     "output_type": "execute_result"
    }
   ],
   "source": [
    "train_data['Cabin'].value_counts()"
   ]
  },
  {
   "cell_type": "code",
   "execution_count": 11,
   "id": "0367d672",
   "metadata": {
    "execution": {
     "iopub.execute_input": "2023-07-23T09:35:27.662209Z",
     "iopub.status.busy": "2023-07-23T09:35:27.661581Z",
     "iopub.status.idle": "2023-07-23T09:35:27.669902Z",
     "shell.execute_reply": "2023-07-23T09:35:27.668973Z"
    },
    "papermill": {
     "duration": 0.029633,
     "end_time": "2023-07-23T09:35:27.672042",
     "exception": false,
     "start_time": "2023-07-23T09:35:27.642409",
     "status": "completed"
    },
    "tags": []
   },
   "outputs": [
    {
     "data": {
      "text/plain": [
       "S    644\n",
       "C    168\n",
       "Q     77\n",
       "Name: Embarked, dtype: int64"
      ]
     },
     "execution_count": 11,
     "metadata": {},
     "output_type": "execute_result"
    }
   ],
   "source": [
    "train_data['Embarked'].value_counts()"
   ]
  },
  {
   "cell_type": "markdown",
   "id": "41d2b1e4",
   "metadata": {
    "papermill": {
     "duration": 0.017846,
     "end_time": "2023-07-23T09:35:27.708739",
     "exception": false,
     "start_time": "2023-07-23T09:35:27.690893",
     "status": "completed"
    },
    "tags": []
   },
   "source": [
    "# Prepare the Data"
   ]
  },
  {
   "cell_type": "markdown",
   "id": "4572931b",
   "metadata": {
    "papermill": {
     "duration": 0.018925,
     "end_time": "2023-07-23T09:35:27.745799",
     "exception": false,
     "start_time": "2023-07-23T09:35:27.726874",
     "status": "completed"
    },
    "tags": []
   },
   "source": [
    "### Steps:\n",
    "1. Data cleaning: remove empty values or fill them to some value\n",
    "2. Transform useful categorial data to the numerical one\n",
    "3. Engineer new features\n",
    "4. Normalize features"
   ]
  },
  {
   "cell_type": "code",
   "execution_count": 12,
   "id": "b3e6a764",
   "metadata": {
    "execution": {
     "iopub.execute_input": "2023-07-23T09:35:27.785272Z",
     "iopub.status.busy": "2023-07-23T09:35:27.784084Z",
     "iopub.status.idle": "2023-07-23T09:35:27.800805Z",
     "shell.execute_reply": "2023-07-23T09:35:27.798836Z"
    },
    "papermill": {
     "duration": 0.039199,
     "end_time": "2023-07-23T09:35:27.803141",
     "exception": false,
     "start_time": "2023-07-23T09:35:27.763942",
     "status": "completed"
    },
    "tags": []
   },
   "outputs": [
    {
     "name": "stdout",
     "output_type": "stream",
     "text": [
      "<class 'pandas.core.frame.DataFrame'>\n",
      "RangeIndex: 891 entries, 0 to 890\n",
      "Data columns (total 12 columns):\n",
      " #   Column       Non-Null Count  Dtype  \n",
      "---  ------       --------------  -----  \n",
      " 0   PassengerId  891 non-null    int64  \n",
      " 1   Survived     891 non-null    int64  \n",
      " 2   Pclass       891 non-null    int64  \n",
      " 3   Name         891 non-null    object \n",
      " 4   Sex          891 non-null    object \n",
      " 5   Age          714 non-null    float64\n",
      " 6   SibSp        891 non-null    int64  \n",
      " 7   Parch        891 non-null    int64  \n",
      " 8   Ticket       891 non-null    object \n",
      " 9   Fare         891 non-null    float64\n",
      " 10  Cabin        204 non-null    object \n",
      " 11  Embarked     889 non-null    object \n",
      "dtypes: float64(2), int64(5), object(5)\n",
      "memory usage: 83.7+ KB\n"
     ]
    }
   ],
   "source": [
    "train_data.info()"
   ]
  },
  {
   "cell_type": "code",
   "execution_count": 13,
   "id": "d1bfa2fa",
   "metadata": {
    "execution": {
     "iopub.execute_input": "2023-07-23T09:35:27.842342Z",
     "iopub.status.busy": "2023-07-23T09:35:27.841584Z",
     "iopub.status.idle": "2023-07-23T09:35:27.856273Z",
     "shell.execute_reply": "2023-07-23T09:35:27.855200Z"
    },
    "papermill": {
     "duration": 0.037795,
     "end_time": "2023-07-23T09:35:27.859795",
     "exception": false,
     "start_time": "2023-07-23T09:35:27.822000",
     "status": "completed"
    },
    "tags": []
   },
   "outputs": [
    {
     "name": "stdout",
     "output_type": "stream",
     "text": [
      "<class 'pandas.core.frame.DataFrame'>\n",
      "RangeIndex: 891 entries, 0 to 890\n",
      "Data columns (total 8 columns):\n",
      " #   Column    Non-Null Count  Dtype  \n",
      "---  ------    --------------  -----  \n",
      " 0   Pclass    891 non-null    int64  \n",
      " 1   Sex       891 non-null    object \n",
      " 2   Age       714 non-null    float64\n",
      " 3   SibSp     891 non-null    int64  \n",
      " 4   Parch     891 non-null    int64  \n",
      " 5   Fare      891 non-null    float64\n",
      " 6   Cabin     204 non-null    object \n",
      " 7   Embarked  889 non-null    object \n",
      "dtypes: float64(2), int64(3), object(3)\n",
      "memory usage: 55.8+ KB\n"
     ]
    }
   ],
   "source": [
    "train_data_labels = train_data[\"Survived\"].copy() # move labels to the seperate list\n",
    "train_data_cln = train_data.drop(['PassengerId', 'Survived', 'Name', 'Ticket'], axis=1) # remove redundant attributes\n",
    "train_data_cln.info()"
   ]
  },
  {
   "cell_type": "markdown",
   "id": "bcb9dfef",
   "metadata": {
    "papermill": {
     "duration": 0.018775,
     "end_time": "2023-07-23T09:35:27.899748",
     "exception": false,
     "start_time": "2023-07-23T09:35:27.880973",
     "status": "completed"
    },
    "tags": []
   },
   "source": [
    "### Cabin feature transformation"
   ]
  },
  {
   "cell_type": "code",
   "execution_count": 14,
   "id": "3bd43f6d",
   "metadata": {
    "execution": {
     "iopub.execute_input": "2023-07-23T09:35:27.938811Z",
     "iopub.status.busy": "2023-07-23T09:35:27.938054Z",
     "iopub.status.idle": "2023-07-23T09:35:27.943788Z",
     "shell.execute_reply": "2023-07-23T09:35:27.942994Z"
    },
    "papermill": {
     "duration": 0.027686,
     "end_time": "2023-07-23T09:35:27.945841",
     "exception": false,
     "start_time": "2023-07-23T09:35:27.918155",
     "status": "completed"
    },
    "tags": []
   },
   "outputs": [],
   "source": [
    "def transform_cabin_data(data):\n",
    "    raw_cabin_data = data[[\"Cabin\"]].copy()\n",
    "    raw_cabin_data[\"Cabin_Data\"] = data[\"Cabin\"].isnull().apply(lambda x: not x)\n",
    "    raw_cabin_data[\"Deck\"] = raw_cabin_data[\"Cabin\"].str.slice(0,1)\n",
    "    raw_cabin_data = raw_cabin_data[\"Deck\"].fillna(\"N\")\n",
    "    return raw_cabin_data"
   ]
  },
  {
   "cell_type": "code",
   "execution_count": 15,
   "id": "2003d14c",
   "metadata": {
    "execution": {
     "iopub.execute_input": "2023-07-23T09:35:27.985747Z",
     "iopub.status.busy": "2023-07-23T09:35:27.985035Z",
     "iopub.status.idle": "2023-07-23T09:35:27.994088Z",
     "shell.execute_reply": "2023-07-23T09:35:27.993255Z"
    },
    "papermill": {
     "duration": 0.031436,
     "end_time": "2023-07-23T09:35:27.996365",
     "exception": false,
     "start_time": "2023-07-23T09:35:27.964929",
     "status": "completed"
    },
    "tags": []
   },
   "outputs": [],
   "source": [
    "train_data_cln['Cabin'] = transform_cabin_data(train_data_cln)"
   ]
  },
  {
   "cell_type": "code",
   "execution_count": 16,
   "id": "b9e5e0b1",
   "metadata": {
    "execution": {
     "iopub.execute_input": "2023-07-23T09:35:28.035280Z",
     "iopub.status.busy": "2023-07-23T09:35:28.034863Z",
     "iopub.status.idle": "2023-07-23T09:35:28.043567Z",
     "shell.execute_reply": "2023-07-23T09:35:28.042482Z"
    },
    "papermill": {
     "duration": 0.030735,
     "end_time": "2023-07-23T09:35:28.045799",
     "exception": false,
     "start_time": "2023-07-23T09:35:28.015064",
     "status": "completed"
    },
    "tags": []
   },
   "outputs": [
    {
     "data": {
      "text/plain": [
       "0      N\n",
       "1      C\n",
       "2      N\n",
       "3      C\n",
       "4      N\n",
       "      ..\n",
       "886    N\n",
       "887    B\n",
       "888    N\n",
       "889    C\n",
       "890    N\n",
       "Name: Cabin, Length: 891, dtype: object"
      ]
     },
     "execution_count": 16,
     "metadata": {},
     "output_type": "execute_result"
    }
   ],
   "source": [
    "train_data_cln['Cabin']"
   ]
  },
  {
   "cell_type": "code",
   "execution_count": 17,
   "id": "5aa5591d",
   "metadata": {
    "execution": {
     "iopub.execute_input": "2023-07-23T09:35:28.084826Z",
     "iopub.status.busy": "2023-07-23T09:35:28.084388Z",
     "iopub.status.idle": "2023-07-23T09:35:28.092801Z",
     "shell.execute_reply": "2023-07-23T09:35:28.091986Z"
    },
    "papermill": {
     "duration": 0.030578,
     "end_time": "2023-07-23T09:35:28.094760",
     "exception": false,
     "start_time": "2023-07-23T09:35:28.064182",
     "status": "completed"
    },
    "tags": []
   },
   "outputs": [
    {
     "data": {
      "text/plain": [
       "N    687\n",
       "C     59\n",
       "B     47\n",
       "D     33\n",
       "E     32\n",
       "A     15\n",
       "F     13\n",
       "G      4\n",
       "T      1\n",
       "Name: Cabin, dtype: int64"
      ]
     },
     "execution_count": 17,
     "metadata": {},
     "output_type": "execute_result"
    }
   ],
   "source": [
    "train_data_cln['Cabin'].value_counts()"
   ]
  },
  {
   "cell_type": "code",
   "execution_count": 18,
   "id": "80e110e7",
   "metadata": {
    "execution": {
     "iopub.execute_input": "2023-07-23T09:35:28.133813Z",
     "iopub.status.busy": "2023-07-23T09:35:28.133074Z",
     "iopub.status.idle": "2023-07-23T09:35:28.145049Z",
     "shell.execute_reply": "2023-07-23T09:35:28.143928Z"
    },
    "papermill": {
     "duration": 0.033703,
     "end_time": "2023-07-23T09:35:28.147287",
     "exception": false,
     "start_time": "2023-07-23T09:35:28.113584",
     "status": "completed"
    },
    "tags": []
   },
   "outputs": [
    {
     "data": {
      "text/plain": [
       "0      N\n",
       "1      N\n",
       "2      N\n",
       "3      N\n",
       "4      N\n",
       "      ..\n",
       "413    N\n",
       "414    C\n",
       "415    N\n",
       "416    N\n",
       "417    N\n",
       "Name: Cabin, Length: 418, dtype: object"
      ]
     },
     "execution_count": 18,
     "metadata": {},
     "output_type": "execute_result"
    }
   ],
   "source": [
    "# also transform test cabin data\n",
    "test_data['Cabin'] = transform_cabin_data(test_data)\n",
    "test_data['Cabin']"
   ]
  },
  {
   "cell_type": "markdown",
   "id": "15487039",
   "metadata": {
    "papermill": {
     "duration": 0.018609,
     "end_time": "2023-07-23T09:35:28.184324",
     "exception": false,
     "start_time": "2023-07-23T09:35:28.165715",
     "status": "completed"
    },
    "tags": []
   },
   "source": [
    "### New features"
   ]
  },
  {
   "cell_type": "code",
   "execution_count": 19,
   "id": "36eea593",
   "metadata": {
    "execution": {
     "iopub.execute_input": "2023-07-23T09:35:28.223959Z",
     "iopub.status.busy": "2023-07-23T09:35:28.223557Z",
     "iopub.status.idle": "2023-07-23T09:35:28.231396Z",
     "shell.execute_reply": "2023-07-23T09:35:28.230334Z"
    },
    "papermill": {
     "duration": 0.02997,
     "end_time": "2023-07-23T09:35:28.233495",
     "exception": false,
     "start_time": "2023-07-23T09:35:28.203525",
     "status": "completed"
    },
    "tags": []
   },
   "outputs": [],
   "source": [
    "train_data_cln[\"RelativesOnboard\"] = train_data_cln[\"SibSp\"] + train_data_cln[\"Parch\"]\n",
    "train_data_cln =train_data_cln.drop(['SibSp', 'Parch'], axis=1) # remove redundant attributes"
   ]
  },
  {
   "cell_type": "code",
   "execution_count": 20,
   "id": "bc2803c7",
   "metadata": {
    "execution": {
     "iopub.execute_input": "2023-07-23T09:35:28.274777Z",
     "iopub.status.busy": "2023-07-23T09:35:28.274350Z",
     "iopub.status.idle": "2023-07-23T09:35:28.281746Z",
     "shell.execute_reply": "2023-07-23T09:35:28.280689Z"
    },
    "papermill": {
     "duration": 0.031436,
     "end_time": "2023-07-23T09:35:28.283980",
     "exception": false,
     "start_time": "2023-07-23T09:35:28.252544",
     "status": "completed"
    },
    "tags": []
   },
   "outputs": [],
   "source": [
    "test_data[\"RelativesOnboard\"] = test_data[\"SibSp\"] + test_data[\"Parch\"]\n",
    "test_data = test_data.drop(['SibSp', 'Parch'], axis=1) # remove redundant attributes"
   ]
  },
  {
   "cell_type": "code",
   "execution_count": 21,
   "id": "ef435d8b",
   "metadata": {
    "execution": {
     "iopub.execute_input": "2023-07-23T09:35:28.324910Z",
     "iopub.status.busy": "2023-07-23T09:35:28.324482Z",
     "iopub.status.idle": "2023-07-23T09:35:28.339228Z",
     "shell.execute_reply": "2023-07-23T09:35:28.337839Z"
    },
    "papermill": {
     "duration": 0.037199,
     "end_time": "2023-07-23T09:35:28.341406",
     "exception": false,
     "start_time": "2023-07-23T09:35:28.304207",
     "status": "completed"
    },
    "tags": []
   },
   "outputs": [
    {
     "name": "stdout",
     "output_type": "stream",
     "text": [
      "<class 'pandas.core.frame.DataFrame'>\n",
      "RangeIndex: 891 entries, 0 to 890\n",
      "Data columns (total 7 columns):\n",
      " #   Column            Non-Null Count  Dtype  \n",
      "---  ------            --------------  -----  \n",
      " 0   Pclass            891 non-null    int64  \n",
      " 1   Sex               891 non-null    object \n",
      " 2   Age               714 non-null    float64\n",
      " 3   Fare              891 non-null    float64\n",
      " 4   Cabin             891 non-null    object \n",
      " 5   Embarked          889 non-null    object \n",
      " 6   RelativesOnboard  891 non-null    int64  \n",
      "dtypes: float64(2), int64(2), object(3)\n",
      "memory usage: 48.9+ KB\n"
     ]
    }
   ],
   "source": [
    "train_data_cln.info()"
   ]
  },
  {
   "cell_type": "markdown",
   "id": "007f79e9",
   "metadata": {
    "papermill": {
     "duration": 0.018664,
     "end_time": "2023-07-23T09:35:28.378675",
     "exception": false,
     "start_time": "2023-07-23T09:35:28.360011",
     "status": "completed"
    },
    "tags": []
   },
   "source": [
    "### Transformation pipeline"
   ]
  },
  {
   "cell_type": "code",
   "execution_count": 22,
   "id": "22b3ac52",
   "metadata": {
    "execution": {
     "iopub.execute_input": "2023-07-23T09:35:28.419938Z",
     "iopub.status.busy": "2023-07-23T09:35:28.419546Z",
     "iopub.status.idle": "2023-07-23T09:35:28.425777Z",
     "shell.execute_reply": "2023-07-23T09:35:28.424791Z"
    },
    "papermill": {
     "duration": 0.030142,
     "end_time": "2023-07-23T09:35:28.427855",
     "exception": false,
     "start_time": "2023-07-23T09:35:28.397713",
     "status": "completed"
    },
    "tags": []
   },
   "outputs": [],
   "source": [
    "# Fill missed embarked data with the most frequent one\n",
    "most_frequent = train_data_cln['Embarked'].mode()[0]\n",
    "train_data_cln['Embarked'].fillna(most_frequent, inplace=True)"
   ]
  },
  {
   "cell_type": "code",
   "execution_count": 23,
   "id": "4b60800b",
   "metadata": {
    "execution": {
     "iopub.execute_input": "2023-07-23T09:35:28.467419Z",
     "iopub.status.busy": "2023-07-23T09:35:28.467023Z",
     "iopub.status.idle": "2023-07-23T09:35:28.475808Z",
     "shell.execute_reply": "2023-07-23T09:35:28.474766Z"
    },
    "papermill": {
     "duration": 0.031111,
     "end_time": "2023-07-23T09:35:28.477916",
     "exception": false,
     "start_time": "2023-07-23T09:35:28.446805",
     "status": "completed"
    },
    "tags": []
   },
   "outputs": [
    {
     "data": {
      "text/plain": [
       "S    646\n",
       "C    168\n",
       "Q     77\n",
       "Name: Embarked, dtype: int64"
      ]
     },
     "execution_count": 23,
     "metadata": {},
     "output_type": "execute_result"
    }
   ],
   "source": [
    "train_data_cln['Embarked'].value_counts()"
   ]
  },
  {
   "cell_type": "code",
   "execution_count": 24,
   "id": "22ec564b",
   "metadata": {
    "execution": {
     "iopub.execute_input": "2023-07-23T09:35:28.518126Z",
     "iopub.status.busy": "2023-07-23T09:35:28.517706Z",
     "iopub.status.idle": "2023-07-23T09:35:28.550265Z",
     "shell.execute_reply": "2023-07-23T09:35:28.549149Z"
    },
    "papermill": {
     "duration": 0.055505,
     "end_time": "2023-07-23T09:35:28.552574",
     "exception": false,
     "start_time": "2023-07-23T09:35:28.497069",
     "status": "completed"
    },
    "tags": []
   },
   "outputs": [
    {
     "data": {
      "text/plain": [
       "array([[-0.5924806 ,  0.05915988, -0.50244517,  1.        ,  0.        ,\n",
       "         0.        ,  1.        ,  0.        ,  0.        ,  0.        ,\n",
       "         0.        ,  0.        ,  0.        ,  0.        ,  1.        ,\n",
       "         0.        ,  0.        ,  0.        ,  1.        ],\n",
       "       [ 0.63878901,  0.05915988,  0.78684529,  0.        ,  1.        ,\n",
       "         0.        ,  0.        ,  0.        ,  0.        ,  1.        ,\n",
       "         0.        ,  0.        ,  0.        ,  0.        ,  0.        ,\n",
       "         0.        ,  1.        ,  0.        ,  0.        ]])"
      ]
     },
     "execution_count": 24,
     "metadata": {},
     "output_type": "execute_result"
    }
   ],
   "source": [
    "# numerical pipeline\n",
    "num_pipeline = Pipeline([\n",
    "    ('imputer', SimpleImputer(strategy=\"mean\")),\n",
    "    ('std_scaler', StandardScaler())\n",
    "])\n",
    "\n",
    "# categorial pipeline\n",
    "cat_pipeline = ColumnTransformer([\n",
    "    ('ordinal', OrdinalEncoder(), ['Sex']),\n",
    "    ('one_hot', OneHotEncoder(sparse_output=False), ['Pclass', 'Cabin', 'Embarked'])\n",
    "])\n",
    "\n",
    "# full pipeline\n",
    "numerical_attribs = ['Age', 'RelativesOnboard', 'Fare']\n",
    "categorial_attribs = ['Pclass', 'Sex', 'Cabin', 'Embarked']\n",
    "\n",
    "\n",
    "full_pipeline = ColumnTransformer([\n",
    "    ('num', num_pipeline, numerical_attribs),\n",
    "    ('cat', cat_pipeline, categorial_attribs)\n",
    "])\n",
    "\n",
    "train_data_transformed = full_pipeline.fit_transform(train_data_cln)\n",
    "train_data_transformed[:2]"
   ]
  },
  {
   "cell_type": "code",
   "execution_count": 25,
   "id": "e946b511",
   "metadata": {
    "execution": {
     "iopub.execute_input": "2023-07-23T09:35:28.593247Z",
     "iopub.status.busy": "2023-07-23T09:35:28.592888Z",
     "iopub.status.idle": "2023-07-23T09:35:28.598309Z",
     "shell.execute_reply": "2023-07-23T09:35:28.597616Z"
    },
    "papermill": {
     "duration": 0.02789,
     "end_time": "2023-07-23T09:35:28.600152",
     "exception": false,
     "start_time": "2023-07-23T09:35:28.572262",
     "status": "completed"
    },
    "tags": []
   },
   "outputs": [
    {
     "data": {
      "text/plain": [
       "(891, 19)"
      ]
     },
     "execution_count": 25,
     "metadata": {},
     "output_type": "execute_result"
    }
   ],
   "source": [
    "train_data_transformed.shape"
   ]
  },
  {
   "cell_type": "code",
   "execution_count": 26,
   "id": "a2979868",
   "metadata": {
    "execution": {
     "iopub.execute_input": "2023-07-23T09:35:28.641309Z",
     "iopub.status.busy": "2023-07-23T09:35:28.640597Z",
     "iopub.status.idle": "2023-07-23T09:35:28.647443Z",
     "shell.execute_reply": "2023-07-23T09:35:28.646368Z"
    },
    "papermill": {
     "duration": 0.029696,
     "end_time": "2023-07-23T09:35:28.649441",
     "exception": false,
     "start_time": "2023-07-23T09:35:28.619745",
     "status": "completed"
    },
    "tags": []
   },
   "outputs": [
    {
     "data": {
      "text/plain": [
       "(891,)"
      ]
     },
     "execution_count": 26,
     "metadata": {},
     "output_type": "execute_result"
    }
   ],
   "source": [
    "train_data_labels.shape"
   ]
  },
  {
   "cell_type": "code",
   "execution_count": 27,
   "id": "4c578aae",
   "metadata": {
    "execution": {
     "iopub.execute_input": "2023-07-23T09:35:28.689276Z",
     "iopub.status.busy": "2023-07-23T09:35:28.688866Z",
     "iopub.status.idle": "2023-07-23T09:35:28.702891Z",
     "shell.execute_reply": "2023-07-23T09:35:28.702113Z"
    },
    "papermill": {
     "duration": 0.036372,
     "end_time": "2023-07-23T09:35:28.705196",
     "exception": false,
     "start_time": "2023-07-23T09:35:28.668824",
     "status": "completed"
    },
    "tags": []
   },
   "outputs": [],
   "source": [
    "test_data_prepared = full_pipeline.transform(test_data)"
   ]
  },
  {
   "cell_type": "code",
   "execution_count": 28,
   "id": "67dd9805",
   "metadata": {
    "execution": {
     "iopub.execute_input": "2023-07-23T09:35:28.745729Z",
     "iopub.status.busy": "2023-07-23T09:35:28.744989Z",
     "iopub.status.idle": "2023-07-23T09:35:28.751897Z",
     "shell.execute_reply": "2023-07-23T09:35:28.750777Z"
    },
    "papermill": {
     "duration": 0.030009,
     "end_time": "2023-07-23T09:35:28.754164",
     "exception": false,
     "start_time": "2023-07-23T09:35:28.724155",
     "status": "completed"
    },
    "tags": []
   },
   "outputs": [
    {
     "data": {
      "text/plain": [
       "(418, 19)"
      ]
     },
     "execution_count": 28,
     "metadata": {},
     "output_type": "execute_result"
    }
   ],
   "source": [
    "test_data_prepared.shape"
   ]
  },
  {
   "cell_type": "markdown",
   "id": "893ed729",
   "metadata": {
    "papermill": {
     "duration": 0.01944,
     "end_time": "2023-07-23T09:35:28.793489",
     "exception": false,
     "start_time": "2023-07-23T09:35:28.774049",
     "status": "completed"
    },
    "tags": []
   },
   "source": [
    "# Model Training"
   ]
  },
  {
   "cell_type": "code",
   "execution_count": 29,
   "id": "a66e7e62",
   "metadata": {
    "execution": {
     "iopub.execute_input": "2023-07-23T09:35:28.834284Z",
     "iopub.status.busy": "2023-07-23T09:35:28.833892Z",
     "iopub.status.idle": "2023-07-23T09:35:29.132191Z",
     "shell.execute_reply": "2023-07-23T09:35:29.131138Z"
    },
    "papermill": {
     "duration": 0.321857,
     "end_time": "2023-07-23T09:35:29.134816",
     "exception": false,
     "start_time": "2023-07-23T09:35:28.812959",
     "status": "completed"
    },
    "tags": []
   },
   "outputs": [
    {
     "data": {
      "text/html": [
       "<style>#sk-container-id-1 {color: black;background-color: white;}#sk-container-id-1 pre{padding: 0;}#sk-container-id-1 div.sk-toggleable {background-color: white;}#sk-container-id-1 label.sk-toggleable__label {cursor: pointer;display: block;width: 100%;margin-bottom: 0;padding: 0.3em;box-sizing: border-box;text-align: center;}#sk-container-id-1 label.sk-toggleable__label-arrow:before {content: \"▸\";float: left;margin-right: 0.25em;color: #696969;}#sk-container-id-1 label.sk-toggleable__label-arrow:hover:before {color: black;}#sk-container-id-1 div.sk-estimator:hover label.sk-toggleable__label-arrow:before {color: black;}#sk-container-id-1 div.sk-toggleable__content {max-height: 0;max-width: 0;overflow: hidden;text-align: left;background-color: #f0f8ff;}#sk-container-id-1 div.sk-toggleable__content pre {margin: 0.2em;color: black;border-radius: 0.25em;background-color: #f0f8ff;}#sk-container-id-1 input.sk-toggleable__control:checked~div.sk-toggleable__content {max-height: 200px;max-width: 100%;overflow: auto;}#sk-container-id-1 input.sk-toggleable__control:checked~label.sk-toggleable__label-arrow:before {content: \"▾\";}#sk-container-id-1 div.sk-estimator input.sk-toggleable__control:checked~label.sk-toggleable__label {background-color: #d4ebff;}#sk-container-id-1 div.sk-label input.sk-toggleable__control:checked~label.sk-toggleable__label {background-color: #d4ebff;}#sk-container-id-1 input.sk-hidden--visually {border: 0;clip: rect(1px 1px 1px 1px);clip: rect(1px, 1px, 1px, 1px);height: 1px;margin: -1px;overflow: hidden;padding: 0;position: absolute;width: 1px;}#sk-container-id-1 div.sk-estimator {font-family: monospace;background-color: #f0f8ff;border: 1px dotted black;border-radius: 0.25em;box-sizing: border-box;margin-bottom: 0.5em;}#sk-container-id-1 div.sk-estimator:hover {background-color: #d4ebff;}#sk-container-id-1 div.sk-parallel-item::after {content: \"\";width: 100%;border-bottom: 1px solid gray;flex-grow: 1;}#sk-container-id-1 div.sk-label:hover label.sk-toggleable__label {background-color: #d4ebff;}#sk-container-id-1 div.sk-serial::before {content: \"\";position: absolute;border-left: 1px solid gray;box-sizing: border-box;top: 0;bottom: 0;left: 50%;z-index: 0;}#sk-container-id-1 div.sk-serial {display: flex;flex-direction: column;align-items: center;background-color: white;padding-right: 0.2em;padding-left: 0.2em;position: relative;}#sk-container-id-1 div.sk-item {position: relative;z-index: 1;}#sk-container-id-1 div.sk-parallel {display: flex;align-items: stretch;justify-content: center;background-color: white;position: relative;}#sk-container-id-1 div.sk-item::before, #sk-container-id-1 div.sk-parallel-item::before {content: \"\";position: absolute;border-left: 1px solid gray;box-sizing: border-box;top: 0;bottom: 0;left: 50%;z-index: -1;}#sk-container-id-1 div.sk-parallel-item {display: flex;flex-direction: column;z-index: 1;position: relative;background-color: white;}#sk-container-id-1 div.sk-parallel-item:first-child::after {align-self: flex-end;width: 50%;}#sk-container-id-1 div.sk-parallel-item:last-child::after {align-self: flex-start;width: 50%;}#sk-container-id-1 div.sk-parallel-item:only-child::after {width: 0;}#sk-container-id-1 div.sk-dashed-wrapped {border: 1px dashed gray;margin: 0 0.4em 0.5em 0.4em;box-sizing: border-box;padding-bottom: 0.4em;background-color: white;}#sk-container-id-1 div.sk-label label {font-family: monospace;font-weight: bold;display: inline-block;line-height: 1.2em;}#sk-container-id-1 div.sk-label-container {text-align: center;}#sk-container-id-1 div.sk-container {/* jupyter's `normalize.less` sets `[hidden] { display: none; }` but bootstrap.min.css set `[hidden] { display: none !important; }` so we also need the `!important` here to be able to override the default hidden behavior on the sphinx rendered scikit-learn.org. See: https://github.com/scikit-learn/scikit-learn/issues/21755 */display: inline-block !important;position: relative;}#sk-container-id-1 div.sk-text-repr-fallback {display: none;}</style><div id=\"sk-container-id-1\" class=\"sk-top-container\"><div class=\"sk-text-repr-fallback\"><pre>RandomForestClassifier()</pre><b>In a Jupyter environment, please rerun this cell to show the HTML representation or trust the notebook. <br />On GitHub, the HTML representation is unable to render, please try loading this page with nbviewer.org.</b></div><div class=\"sk-container\" hidden><div class=\"sk-item\"><div class=\"sk-estimator sk-toggleable\"><input class=\"sk-toggleable__control sk-hidden--visually\" id=\"sk-estimator-id-1\" type=\"checkbox\" checked><label for=\"sk-estimator-id-1\" class=\"sk-toggleable__label sk-toggleable__label-arrow\">RandomForestClassifier</label><div class=\"sk-toggleable__content\"><pre>RandomForestClassifier()</pre></div></div></div></div></div>"
      ],
      "text/plain": [
       "RandomForestClassifier()"
      ]
     },
     "execution_count": 29,
     "metadata": {},
     "output_type": "execute_result"
    }
   ],
   "source": [
    "forest_classifier = RandomForestClassifier()\n",
    "forest_classifier.fit(train_data_transformed, train_data_labels)"
   ]
  },
  {
   "cell_type": "code",
   "execution_count": 30,
   "id": "866afa6f",
   "metadata": {
    "execution": {
     "iopub.execute_input": "2023-07-23T09:35:29.177059Z",
     "iopub.status.busy": "2023-07-23T09:35:29.176683Z",
     "iopub.status.idle": "2023-07-23T09:35:29.181223Z",
     "shell.execute_reply": "2023-07-23T09:35:29.180235Z"
    },
    "papermill": {
     "duration": 0.028215,
     "end_time": "2023-07-23T09:35:29.183432",
     "exception": false,
     "start_time": "2023-07-23T09:35:29.155217",
     "status": "completed"
    },
    "tags": []
   },
   "outputs": [],
   "source": [
    "#predictions = forest_classifier.predict(test_data_prepared)\n",
    "\n",
    "#output = pd.DataFrame({'PassengerId': test_data_cleaned.PassengerId, 'Survived': predictions})\n",
    "#output.to_csv('submission.csv', index=False)"
   ]
  },
  {
   "cell_type": "code",
   "execution_count": 31,
   "id": "8cf4e3db",
   "metadata": {
    "execution": {
     "iopub.execute_input": "2023-07-23T09:35:29.225709Z",
     "iopub.status.busy": "2023-07-23T09:35:29.225280Z",
     "iopub.status.idle": "2023-07-23T09:35:30.069631Z",
     "shell.execute_reply": "2023-07-23T09:35:30.068008Z"
    },
    "papermill": {
     "duration": 0.868561,
     "end_time": "2023-07-23T09:35:30.072271",
     "exception": false,
     "start_time": "2023-07-23T09:35:29.203710",
     "status": "completed"
    },
    "tags": []
   },
   "outputs": [
    {
     "name": "stdout",
     "output_type": "stream",
     "text": [
      "Accuracy:  0.7968574635241302\n",
      "Precision:  0.7507788161993769\n",
      "Recall:  0.7046783625730995\n"
     ]
    }
   ],
   "source": [
    "y_predicts = cross_val_predict(forest_classifier, train_data_transformed, train_data_labels, cv=3)\n",
    "\n",
    "print(\"Accuracy: \", accuracy_score(train_data_labels, y_predicts))\n",
    "print(\"Precision: \", precision_score(train_data_labels, y_predicts))\n",
    "print(\"Recall: \", recall_score(train_data_labels, y_predicts))"
   ]
  },
  {
   "cell_type": "markdown",
   "id": "7f9f68df",
   "metadata": {
    "papermill": {
     "duration": 0.020286,
     "end_time": "2023-07-23T09:35:30.113091",
     "exception": false,
     "start_time": "2023-07-23T09:35:30.092805",
     "status": "completed"
    },
    "tags": []
   },
   "source": [
    "# Grid Search"
   ]
  },
  {
   "cell_type": "code",
   "execution_count": 32,
   "id": "9f8d435d",
   "metadata": {
    "execution": {
     "iopub.execute_input": "2023-07-23T09:35:30.155712Z",
     "iopub.status.busy": "2023-07-23T09:35:30.155053Z",
     "iopub.status.idle": "2023-07-23T09:36:59.521949Z",
     "shell.execute_reply": "2023-07-23T09:36:59.520504Z"
    },
    "papermill": {
     "duration": 89.410074,
     "end_time": "2023-07-23T09:36:59.543476",
     "exception": false,
     "start_time": "2023-07-23T09:35:30.133402",
     "status": "completed"
    },
    "tags": []
   },
   "outputs": [
    {
     "data": {
      "text/html": [
       "<style>#sk-container-id-2 {color: black;background-color: white;}#sk-container-id-2 pre{padding: 0;}#sk-container-id-2 div.sk-toggleable {background-color: white;}#sk-container-id-2 label.sk-toggleable__label {cursor: pointer;display: block;width: 100%;margin-bottom: 0;padding: 0.3em;box-sizing: border-box;text-align: center;}#sk-container-id-2 label.sk-toggleable__label-arrow:before {content: \"▸\";float: left;margin-right: 0.25em;color: #696969;}#sk-container-id-2 label.sk-toggleable__label-arrow:hover:before {color: black;}#sk-container-id-2 div.sk-estimator:hover label.sk-toggleable__label-arrow:before {color: black;}#sk-container-id-2 div.sk-toggleable__content {max-height: 0;max-width: 0;overflow: hidden;text-align: left;background-color: #f0f8ff;}#sk-container-id-2 div.sk-toggleable__content pre {margin: 0.2em;color: black;border-radius: 0.25em;background-color: #f0f8ff;}#sk-container-id-2 input.sk-toggleable__control:checked~div.sk-toggleable__content {max-height: 200px;max-width: 100%;overflow: auto;}#sk-container-id-2 input.sk-toggleable__control:checked~label.sk-toggleable__label-arrow:before {content: \"▾\";}#sk-container-id-2 div.sk-estimator input.sk-toggleable__control:checked~label.sk-toggleable__label {background-color: #d4ebff;}#sk-container-id-2 div.sk-label input.sk-toggleable__control:checked~label.sk-toggleable__label {background-color: #d4ebff;}#sk-container-id-2 input.sk-hidden--visually {border: 0;clip: rect(1px 1px 1px 1px);clip: rect(1px, 1px, 1px, 1px);height: 1px;margin: -1px;overflow: hidden;padding: 0;position: absolute;width: 1px;}#sk-container-id-2 div.sk-estimator {font-family: monospace;background-color: #f0f8ff;border: 1px dotted black;border-radius: 0.25em;box-sizing: border-box;margin-bottom: 0.5em;}#sk-container-id-2 div.sk-estimator:hover {background-color: #d4ebff;}#sk-container-id-2 div.sk-parallel-item::after {content: \"\";width: 100%;border-bottom: 1px solid gray;flex-grow: 1;}#sk-container-id-2 div.sk-label:hover label.sk-toggleable__label {background-color: #d4ebff;}#sk-container-id-2 div.sk-serial::before {content: \"\";position: absolute;border-left: 1px solid gray;box-sizing: border-box;top: 0;bottom: 0;left: 50%;z-index: 0;}#sk-container-id-2 div.sk-serial {display: flex;flex-direction: column;align-items: center;background-color: white;padding-right: 0.2em;padding-left: 0.2em;position: relative;}#sk-container-id-2 div.sk-item {position: relative;z-index: 1;}#sk-container-id-2 div.sk-parallel {display: flex;align-items: stretch;justify-content: center;background-color: white;position: relative;}#sk-container-id-2 div.sk-item::before, #sk-container-id-2 div.sk-parallel-item::before {content: \"\";position: absolute;border-left: 1px solid gray;box-sizing: border-box;top: 0;bottom: 0;left: 50%;z-index: -1;}#sk-container-id-2 div.sk-parallel-item {display: flex;flex-direction: column;z-index: 1;position: relative;background-color: white;}#sk-container-id-2 div.sk-parallel-item:first-child::after {align-self: flex-end;width: 50%;}#sk-container-id-2 div.sk-parallel-item:last-child::after {align-self: flex-start;width: 50%;}#sk-container-id-2 div.sk-parallel-item:only-child::after {width: 0;}#sk-container-id-2 div.sk-dashed-wrapped {border: 1px dashed gray;margin: 0 0.4em 0.5em 0.4em;box-sizing: border-box;padding-bottom: 0.4em;background-color: white;}#sk-container-id-2 div.sk-label label {font-family: monospace;font-weight: bold;display: inline-block;line-height: 1.2em;}#sk-container-id-2 div.sk-label-container {text-align: center;}#sk-container-id-2 div.sk-container {/* jupyter's `normalize.less` sets `[hidden] { display: none; }` but bootstrap.min.css set `[hidden] { display: none !important; }` so we also need the `!important` here to be able to override the default hidden behavior on the sphinx rendered scikit-learn.org. See: https://github.com/scikit-learn/scikit-learn/issues/21755 */display: inline-block !important;position: relative;}#sk-container-id-2 div.sk-text-repr-fallback {display: none;}</style><div id=\"sk-container-id-2\" class=\"sk-top-container\"><div class=\"sk-text-repr-fallback\"><pre>GridSearchCV(cv=5, estimator=RandomForestClassifier(),\n",
       "             param_grid=[{&#x27;max_features&#x27;: [2, 4, 6, 8, 10],\n",
       "                          &#x27;n_estimators&#x27;: [10, 30, 100, 1000]}],\n",
       "             return_train_score=True, scoring=&#x27;accuracy&#x27;)</pre><b>In a Jupyter environment, please rerun this cell to show the HTML representation or trust the notebook. <br />On GitHub, the HTML representation is unable to render, please try loading this page with nbviewer.org.</b></div><div class=\"sk-container\" hidden><div class=\"sk-item sk-dashed-wrapped\"><div class=\"sk-label-container\"><div class=\"sk-label sk-toggleable\"><input class=\"sk-toggleable__control sk-hidden--visually\" id=\"sk-estimator-id-2\" type=\"checkbox\" ><label for=\"sk-estimator-id-2\" class=\"sk-toggleable__label sk-toggleable__label-arrow\">GridSearchCV</label><div class=\"sk-toggleable__content\"><pre>GridSearchCV(cv=5, estimator=RandomForestClassifier(),\n",
       "             param_grid=[{&#x27;max_features&#x27;: [2, 4, 6, 8, 10],\n",
       "                          &#x27;n_estimators&#x27;: [10, 30, 100, 1000]}],\n",
       "             return_train_score=True, scoring=&#x27;accuracy&#x27;)</pre></div></div></div><div class=\"sk-parallel\"><div class=\"sk-parallel-item\"><div class=\"sk-item\"><div class=\"sk-label-container\"><div class=\"sk-label sk-toggleable\"><input class=\"sk-toggleable__control sk-hidden--visually\" id=\"sk-estimator-id-3\" type=\"checkbox\" ><label for=\"sk-estimator-id-3\" class=\"sk-toggleable__label sk-toggleable__label-arrow\">estimator: RandomForestClassifier</label><div class=\"sk-toggleable__content\"><pre>RandomForestClassifier()</pre></div></div></div><div class=\"sk-serial\"><div class=\"sk-item\"><div class=\"sk-estimator sk-toggleable\"><input class=\"sk-toggleable__control sk-hidden--visually\" id=\"sk-estimator-id-4\" type=\"checkbox\" ><label for=\"sk-estimator-id-4\" class=\"sk-toggleable__label sk-toggleable__label-arrow\">RandomForestClassifier</label><div class=\"sk-toggleable__content\"><pre>RandomForestClassifier()</pre></div></div></div></div></div></div></div></div></div></div>"
      ],
      "text/plain": [
       "GridSearchCV(cv=5, estimator=RandomForestClassifier(),\n",
       "             param_grid=[{'max_features': [2, 4, 6, 8, 10],\n",
       "                          'n_estimators': [10, 30, 100, 1000]}],\n",
       "             return_train_score=True, scoring='accuracy')"
      ]
     },
     "execution_count": 32,
     "metadata": {},
     "output_type": "execute_result"
    }
   ],
   "source": [
    "params_grid = [\n",
    "    {'n_estimators': [10, 30, 100, 1000], 'max_features': [2, 4, 6, 8, 10]}\n",
    "]\n",
    "\n",
    "forest_clf = RandomForestClassifier()\n",
    "\n",
    "grid_search = GridSearchCV(forest_clf, params_grid, cv=5, scoring='accuracy', return_train_score=True)\n",
    "\n",
    "grid_search.fit(train_data_transformed, train_data_labels)"
   ]
  },
  {
   "cell_type": "code",
   "execution_count": 33,
   "id": "71162783",
   "metadata": {
    "execution": {
     "iopub.execute_input": "2023-07-23T09:36:59.586714Z",
     "iopub.status.busy": "2023-07-23T09:36:59.586290Z",
     "iopub.status.idle": "2023-07-23T09:36:59.592299Z",
     "shell.execute_reply": "2023-07-23T09:36:59.591478Z"
    },
    "papermill": {
     "duration": 0.030131,
     "end_time": "2023-07-23T09:36:59.594313",
     "exception": false,
     "start_time": "2023-07-23T09:36:59.564182",
     "status": "completed"
    },
    "tags": []
   },
   "outputs": [
    {
     "name": "stdout",
     "output_type": "stream",
     "text": [
      "Best estimator:  RandomForestClassifier(max_features=8)\n",
      "Best params {'max_features': 8, 'n_estimators': 100}\n",
      "Accuracy: 0.8159625886636117\n"
     ]
    }
   ],
   "source": [
    "print(\"Best estimator: \", grid_search.best_estimator_)\n",
    "print(\"Best params\", grid_search.best_params_)\n",
    "print(\"Accuracy: \" + str(grid_search.best_score_))"
   ]
  },
  {
   "cell_type": "code",
   "execution_count": 34,
   "id": "aa1583a3",
   "metadata": {
    "execution": {
     "iopub.execute_input": "2023-07-23T09:36:59.637372Z",
     "iopub.status.busy": "2023-07-23T09:36:59.636978Z",
     "iopub.status.idle": "2023-07-23T09:36:59.662791Z",
     "shell.execute_reply": "2023-07-23T09:36:59.661435Z"
    },
    "papermill": {
     "duration": 0.050169,
     "end_time": "2023-07-23T09:36:59.665385",
     "exception": false,
     "start_time": "2023-07-23T09:36:59.615216",
     "status": "completed"
    },
    "tags": []
   },
   "outputs": [],
   "source": [
    "best_model = grid_search.best_estimator_\n",
    "\n",
    "predictions = best_model.predict(test_data_prepared)\n",
    "\n",
    "#output = pd.DataFrame({'PassengerId': test_data_cleaned.PassengerId, 'Survived': predictions})\n",
    "#output.to_csv('submission.csv', index=False)"
   ]
  },
  {
   "cell_type": "markdown",
   "id": "4ea7e944",
   "metadata": {
    "papermill": {
     "duration": 0.020533,
     "end_time": "2023-07-23T09:36:59.706786",
     "exception": false,
     "start_time": "2023-07-23T09:36:59.686253",
     "status": "completed"
    },
    "tags": []
   },
   "source": [
    "### K Neighbors Classifier"
   ]
  },
  {
   "cell_type": "code",
   "execution_count": 35,
   "id": "775bbc44",
   "metadata": {
    "execution": {
     "iopub.execute_input": "2023-07-23T09:36:59.749893Z",
     "iopub.status.busy": "2023-07-23T09:36:59.749490Z",
     "iopub.status.idle": "2023-07-23T09:37:02.482933Z",
     "shell.execute_reply": "2023-07-23T09:37:02.482059Z"
    },
    "papermill": {
     "duration": 2.757946,
     "end_time": "2023-07-23T09:37:02.485313",
     "exception": false,
     "start_time": "2023-07-23T09:36:59.727367",
     "status": "completed"
    },
    "tags": []
   },
   "outputs": [
    {
     "data": {
      "text/html": [
       "<style>#sk-container-id-3 {color: black;background-color: white;}#sk-container-id-3 pre{padding: 0;}#sk-container-id-3 div.sk-toggleable {background-color: white;}#sk-container-id-3 label.sk-toggleable__label {cursor: pointer;display: block;width: 100%;margin-bottom: 0;padding: 0.3em;box-sizing: border-box;text-align: center;}#sk-container-id-3 label.sk-toggleable__label-arrow:before {content: \"▸\";float: left;margin-right: 0.25em;color: #696969;}#sk-container-id-3 label.sk-toggleable__label-arrow:hover:before {color: black;}#sk-container-id-3 div.sk-estimator:hover label.sk-toggleable__label-arrow:before {color: black;}#sk-container-id-3 div.sk-toggleable__content {max-height: 0;max-width: 0;overflow: hidden;text-align: left;background-color: #f0f8ff;}#sk-container-id-3 div.sk-toggleable__content pre {margin: 0.2em;color: black;border-radius: 0.25em;background-color: #f0f8ff;}#sk-container-id-3 input.sk-toggleable__control:checked~div.sk-toggleable__content {max-height: 200px;max-width: 100%;overflow: auto;}#sk-container-id-3 input.sk-toggleable__control:checked~label.sk-toggleable__label-arrow:before {content: \"▾\";}#sk-container-id-3 div.sk-estimator input.sk-toggleable__control:checked~label.sk-toggleable__label {background-color: #d4ebff;}#sk-container-id-3 div.sk-label input.sk-toggleable__control:checked~label.sk-toggleable__label {background-color: #d4ebff;}#sk-container-id-3 input.sk-hidden--visually {border: 0;clip: rect(1px 1px 1px 1px);clip: rect(1px, 1px, 1px, 1px);height: 1px;margin: -1px;overflow: hidden;padding: 0;position: absolute;width: 1px;}#sk-container-id-3 div.sk-estimator {font-family: monospace;background-color: #f0f8ff;border: 1px dotted black;border-radius: 0.25em;box-sizing: border-box;margin-bottom: 0.5em;}#sk-container-id-3 div.sk-estimator:hover {background-color: #d4ebff;}#sk-container-id-3 div.sk-parallel-item::after {content: \"\";width: 100%;border-bottom: 1px solid gray;flex-grow: 1;}#sk-container-id-3 div.sk-label:hover label.sk-toggleable__label {background-color: #d4ebff;}#sk-container-id-3 div.sk-serial::before {content: \"\";position: absolute;border-left: 1px solid gray;box-sizing: border-box;top: 0;bottom: 0;left: 50%;z-index: 0;}#sk-container-id-3 div.sk-serial {display: flex;flex-direction: column;align-items: center;background-color: white;padding-right: 0.2em;padding-left: 0.2em;position: relative;}#sk-container-id-3 div.sk-item {position: relative;z-index: 1;}#sk-container-id-3 div.sk-parallel {display: flex;align-items: stretch;justify-content: center;background-color: white;position: relative;}#sk-container-id-3 div.sk-item::before, #sk-container-id-3 div.sk-parallel-item::before {content: \"\";position: absolute;border-left: 1px solid gray;box-sizing: border-box;top: 0;bottom: 0;left: 50%;z-index: -1;}#sk-container-id-3 div.sk-parallel-item {display: flex;flex-direction: column;z-index: 1;position: relative;background-color: white;}#sk-container-id-3 div.sk-parallel-item:first-child::after {align-self: flex-end;width: 50%;}#sk-container-id-3 div.sk-parallel-item:last-child::after {align-self: flex-start;width: 50%;}#sk-container-id-3 div.sk-parallel-item:only-child::after {width: 0;}#sk-container-id-3 div.sk-dashed-wrapped {border: 1px dashed gray;margin: 0 0.4em 0.5em 0.4em;box-sizing: border-box;padding-bottom: 0.4em;background-color: white;}#sk-container-id-3 div.sk-label label {font-family: monospace;font-weight: bold;display: inline-block;line-height: 1.2em;}#sk-container-id-3 div.sk-label-container {text-align: center;}#sk-container-id-3 div.sk-container {/* jupyter's `normalize.less` sets `[hidden] { display: none; }` but bootstrap.min.css set `[hidden] { display: none !important; }` so we also need the `!important` here to be able to override the default hidden behavior on the sphinx rendered scikit-learn.org. See: https://github.com/scikit-learn/scikit-learn/issues/21755 */display: inline-block !important;position: relative;}#sk-container-id-3 div.sk-text-repr-fallback {display: none;}</style><div id=\"sk-container-id-3\" class=\"sk-top-container\"><div class=\"sk-text-repr-fallback\"><pre>GridSearchCV(cv=5, estimator=KNeighborsClassifier(),\n",
       "             param_grid=[{&#x27;metric&#x27;: [&#x27;euclidean&#x27;, &#x27;manhattan&#x27;],\n",
       "                          &#x27;n_neighbors&#x27;: [7, 11, 13, 15],\n",
       "                          &#x27;weights&#x27;: [&#x27;uniform&#x27;, &#x27;distance&#x27;]}],\n",
       "             return_train_score=True, scoring=&#x27;accuracy&#x27;)</pre><b>In a Jupyter environment, please rerun this cell to show the HTML representation or trust the notebook. <br />On GitHub, the HTML representation is unable to render, please try loading this page with nbviewer.org.</b></div><div class=\"sk-container\" hidden><div class=\"sk-item sk-dashed-wrapped\"><div class=\"sk-label-container\"><div class=\"sk-label sk-toggleable\"><input class=\"sk-toggleable__control sk-hidden--visually\" id=\"sk-estimator-id-5\" type=\"checkbox\" ><label for=\"sk-estimator-id-5\" class=\"sk-toggleable__label sk-toggleable__label-arrow\">GridSearchCV</label><div class=\"sk-toggleable__content\"><pre>GridSearchCV(cv=5, estimator=KNeighborsClassifier(),\n",
       "             param_grid=[{&#x27;metric&#x27;: [&#x27;euclidean&#x27;, &#x27;manhattan&#x27;],\n",
       "                          &#x27;n_neighbors&#x27;: [7, 11, 13, 15],\n",
       "                          &#x27;weights&#x27;: [&#x27;uniform&#x27;, &#x27;distance&#x27;]}],\n",
       "             return_train_score=True, scoring=&#x27;accuracy&#x27;)</pre></div></div></div><div class=\"sk-parallel\"><div class=\"sk-parallel-item\"><div class=\"sk-item\"><div class=\"sk-label-container\"><div class=\"sk-label sk-toggleable\"><input class=\"sk-toggleable__control sk-hidden--visually\" id=\"sk-estimator-id-6\" type=\"checkbox\" ><label for=\"sk-estimator-id-6\" class=\"sk-toggleable__label sk-toggleable__label-arrow\">estimator: KNeighborsClassifier</label><div class=\"sk-toggleable__content\"><pre>KNeighborsClassifier()</pre></div></div></div><div class=\"sk-serial\"><div class=\"sk-item\"><div class=\"sk-estimator sk-toggleable\"><input class=\"sk-toggleable__control sk-hidden--visually\" id=\"sk-estimator-id-7\" type=\"checkbox\" ><label for=\"sk-estimator-id-7\" class=\"sk-toggleable__label sk-toggleable__label-arrow\">KNeighborsClassifier</label><div class=\"sk-toggleable__content\"><pre>KNeighborsClassifier()</pre></div></div></div></div></div></div></div></div></div></div>"
      ],
      "text/plain": [
       "GridSearchCV(cv=5, estimator=KNeighborsClassifier(),\n",
       "             param_grid=[{'metric': ['euclidean', 'manhattan'],\n",
       "                          'n_neighbors': [7, 11, 13, 15],\n",
       "                          'weights': ['uniform', 'distance']}],\n",
       "             return_train_score=True, scoring='accuracy')"
      ]
     },
     "execution_count": 35,
     "metadata": {},
     "output_type": "execute_result"
    }
   ],
   "source": [
    "params_grid = [\n",
    "    {'n_neighbors': [7, 11, 13, 15], 'weights': ['uniform', 'distance'], 'metric': ['euclidean', 'manhattan']}\n",
    "]\n",
    "\n",
    "knn_clf = KNeighborsClassifier()\n",
    "\n",
    "grid_search_knn = GridSearchCV(knn_clf, params_grid, cv=5, scoring='accuracy', return_train_score=True)\n",
    "\n",
    "grid_search_knn.fit(train_data_transformed, train_data_labels)"
   ]
  },
  {
   "cell_type": "code",
   "execution_count": 36,
   "id": "d579bc4b",
   "metadata": {
    "execution": {
     "iopub.execute_input": "2023-07-23T09:37:02.530332Z",
     "iopub.status.busy": "2023-07-23T09:37:02.529373Z",
     "iopub.status.idle": "2023-07-23T09:37:02.535062Z",
     "shell.execute_reply": "2023-07-23T09:37:02.534379Z"
    },
    "papermill": {
     "duration": 0.029785,
     "end_time": "2023-07-23T09:37:02.537005",
     "exception": false,
     "start_time": "2023-07-23T09:37:02.507220",
     "status": "completed"
    },
    "tags": []
   },
   "outputs": [
    {
     "name": "stdout",
     "output_type": "stream",
     "text": [
      "Best estimator:  KNeighborsClassifier(metric='euclidean', n_neighbors=11)\n",
      "Best params {'metric': 'euclidean', 'n_neighbors': 11, 'weights': 'uniform'}\n",
      "Accuracy: 0.8058941686020965\n"
     ]
    }
   ],
   "source": [
    "print(\"Best estimator: \", grid_search_knn.best_estimator_)\n",
    "print(\"Best params\", grid_search_knn.best_params_)\n",
    "print(\"Accuracy: \" + str(grid_search_knn.best_score_))"
   ]
  },
  {
   "cell_type": "code",
   "execution_count": 37,
   "id": "64174f8c",
   "metadata": {
    "execution": {
     "iopub.execute_input": "2023-07-23T09:37:02.581167Z",
     "iopub.status.busy": "2023-07-23T09:37:02.580495Z",
     "iopub.status.idle": "2023-07-23T09:37:02.609976Z",
     "shell.execute_reply": "2023-07-23T09:37:02.608967Z"
    },
    "papermill": {
     "duration": 0.054681,
     "end_time": "2023-07-23T09:37:02.612682",
     "exception": false,
     "start_time": "2023-07-23T09:37:02.558001",
     "status": "completed"
    },
    "tags": []
   },
   "outputs": [],
   "source": [
    "best_model = grid_search_knn.best_estimator_\n",
    "predictions = best_model.predict(test_data_prepared)\n",
    "\n",
    "#output = pd.DataFrame({'PassengerId': test_data_cleaned.PassengerId, 'Survived': predictions})\n",
    "#output.to_csv('submission.csv', index=False)"
   ]
  },
  {
   "cell_type": "code",
   "execution_count": 38,
   "id": "21d12778",
   "metadata": {
    "execution": {
     "iopub.execute_input": "2023-07-23T09:37:02.657033Z",
     "iopub.status.busy": "2023-07-23T09:37:02.656646Z",
     "iopub.status.idle": "2023-07-23T09:37:02.665258Z",
     "shell.execute_reply": "2023-07-23T09:37:02.663949Z"
    },
    "papermill": {
     "duration": 0.033493,
     "end_time": "2023-07-23T09:37:02.667688",
     "exception": false,
     "start_time": "2023-07-23T09:37:02.634195",
     "status": "completed"
    },
    "tags": []
   },
   "outputs": [
    {
     "data": {
      "text/plain": [
       "array([0, 0, 0, 0, 0, 0, 1, 0, 1, 0, 0, 0, 1, 0, 0, 1, 0, 0, 1, 0, 1, 0,\n",
       "       0, 1, 1, 0, 1, 0, 0, 0, 0, 0, 0, 0, 1, 0, 0, 0, 0, 0, 0, 0, 0, 1,\n",
       "       1, 0, 0, 0, 1, 1, 1, 0, 1, 1, 0, 0, 0, 0, 0, 1, 0, 0, 0, 1, 1, 1,\n",
       "       1, 0, 0, 1, 1, 0, 0, 1, 1, 0, 0, 1, 0, 1, 1, 1, 0, 0, 0, 0, 1, 1,\n",
       "       1, 1, 0, 0, 1, 0, 0, 0, 1, 0, 1, 0, 1, 0, 0, 0, 0, 0, 0, 0, 0, 0,\n",
       "       0, 1, 1, 1, 1, 0, 0, 1, 1, 1, 1, 0, 1, 0, 0, 0, 0, 1, 0, 0, 0, 0,\n",
       "       0, 0, 0, 0, 0, 0, 1, 0, 0, 1, 1, 0, 0, 0, 1, 0, 0, 0, 1, 0, 0, 1,\n",
       "       0, 0, 1, 1, 1, 1, 1, 1, 1, 0, 0, 0, 1, 0, 1, 0, 0, 0, 0, 0, 0, 1,\n",
       "       1, 1, 1, 1, 0, 1, 1, 0, 1, 0, 1, 0, 0, 0, 0, 0, 0, 0, 1, 0, 1, 1,\n",
       "       0, 0, 1, 1, 1, 1, 0, 0, 1, 0, 1, 0, 0, 0, 0, 0, 0, 0, 1, 1, 1, 0,\n",
       "       0, 0, 1, 0, 0, 0, 0, 1, 0, 0, 0, 1, 0, 0, 1, 0, 1, 0, 1, 1, 0, 1,\n",
       "       1, 0, 0, 1, 1, 0, 1, 0, 1, 0, 1, 0, 0, 0, 0, 0, 1, 0, 0, 0, 1, 1,\n",
       "       0, 0, 0, 0, 0, 0, 0, 0, 1, 1, 0, 1, 0, 0, 0, 0, 0, 1, 1, 1, 1, 0,\n",
       "       0, 1, 0, 0, 0, 1, 0, 1, 0, 0, 1, 0, 0, 0, 0, 0, 0, 0, 1, 1, 1, 1,\n",
       "       0, 0, 0, 0, 0, 1, 1, 1, 1, 0, 0, 0, 0, 0, 0, 0, 1, 0, 1, 0, 0, 0,\n",
       "       1, 1, 0, 1, 0, 0, 0, 0, 0, 0, 0, 0, 0, 1, 0, 1, 0, 0, 0, 1, 1, 0,\n",
       "       0, 0, 0, 1, 1, 0, 0, 1, 0, 1, 1, 0, 1, 0, 0, 1, 1, 0, 0, 1, 0, 0,\n",
       "       1, 1, 0, 0, 0, 0, 0, 0, 0, 0, 0, 1, 0, 0, 0, 0, 1, 1, 0, 0, 0, 1,\n",
       "       0, 1, 0, 0, 1, 0, 1, 0, 1, 0, 0, 1, 1, 1, 1, 1, 0, 0, 1, 0, 0, 0])"
      ]
     },
     "execution_count": 38,
     "metadata": {},
     "output_type": "execute_result"
    }
   ],
   "source": [
    "predictions"
   ]
  },
  {
   "cell_type": "markdown",
   "id": "31dc6f1a",
   "metadata": {
    "papermill": {
     "duration": 0.02076,
     "end_time": "2023-07-23T09:37:02.709636",
     "exception": false,
     "start_time": "2023-07-23T09:37:02.688876",
     "status": "completed"
    },
    "tags": []
   },
   "source": [
    "### SVM"
   ]
  },
  {
   "cell_type": "code",
   "execution_count": 39,
   "id": "f8f02e5c",
   "metadata": {
    "execution": {
     "iopub.execute_input": "2023-07-23T09:37:02.753619Z",
     "iopub.status.busy": "2023-07-23T09:37:02.752539Z",
     "iopub.status.idle": "2023-07-23T09:37:12.791378Z",
     "shell.execute_reply": "2023-07-23T09:37:12.790167Z"
    },
    "papermill": {
     "duration": 10.063005,
     "end_time": "2023-07-23T09:37:12.793626",
     "exception": false,
     "start_time": "2023-07-23T09:37:02.730621",
     "status": "completed"
    },
    "tags": []
   },
   "outputs": [
    {
     "data": {
      "text/html": [
       "<style>#sk-container-id-4 {color: black;background-color: white;}#sk-container-id-4 pre{padding: 0;}#sk-container-id-4 div.sk-toggleable {background-color: white;}#sk-container-id-4 label.sk-toggleable__label {cursor: pointer;display: block;width: 100%;margin-bottom: 0;padding: 0.3em;box-sizing: border-box;text-align: center;}#sk-container-id-4 label.sk-toggleable__label-arrow:before {content: \"▸\";float: left;margin-right: 0.25em;color: #696969;}#sk-container-id-4 label.sk-toggleable__label-arrow:hover:before {color: black;}#sk-container-id-4 div.sk-estimator:hover label.sk-toggleable__label-arrow:before {color: black;}#sk-container-id-4 div.sk-toggleable__content {max-height: 0;max-width: 0;overflow: hidden;text-align: left;background-color: #f0f8ff;}#sk-container-id-4 div.sk-toggleable__content pre {margin: 0.2em;color: black;border-radius: 0.25em;background-color: #f0f8ff;}#sk-container-id-4 input.sk-toggleable__control:checked~div.sk-toggleable__content {max-height: 200px;max-width: 100%;overflow: auto;}#sk-container-id-4 input.sk-toggleable__control:checked~label.sk-toggleable__label-arrow:before {content: \"▾\";}#sk-container-id-4 div.sk-estimator input.sk-toggleable__control:checked~label.sk-toggleable__label {background-color: #d4ebff;}#sk-container-id-4 div.sk-label input.sk-toggleable__control:checked~label.sk-toggleable__label {background-color: #d4ebff;}#sk-container-id-4 input.sk-hidden--visually {border: 0;clip: rect(1px 1px 1px 1px);clip: rect(1px, 1px, 1px, 1px);height: 1px;margin: -1px;overflow: hidden;padding: 0;position: absolute;width: 1px;}#sk-container-id-4 div.sk-estimator {font-family: monospace;background-color: #f0f8ff;border: 1px dotted black;border-radius: 0.25em;box-sizing: border-box;margin-bottom: 0.5em;}#sk-container-id-4 div.sk-estimator:hover {background-color: #d4ebff;}#sk-container-id-4 div.sk-parallel-item::after {content: \"\";width: 100%;border-bottom: 1px solid gray;flex-grow: 1;}#sk-container-id-4 div.sk-label:hover label.sk-toggleable__label {background-color: #d4ebff;}#sk-container-id-4 div.sk-serial::before {content: \"\";position: absolute;border-left: 1px solid gray;box-sizing: border-box;top: 0;bottom: 0;left: 50%;z-index: 0;}#sk-container-id-4 div.sk-serial {display: flex;flex-direction: column;align-items: center;background-color: white;padding-right: 0.2em;padding-left: 0.2em;position: relative;}#sk-container-id-4 div.sk-item {position: relative;z-index: 1;}#sk-container-id-4 div.sk-parallel {display: flex;align-items: stretch;justify-content: center;background-color: white;position: relative;}#sk-container-id-4 div.sk-item::before, #sk-container-id-4 div.sk-parallel-item::before {content: \"\";position: absolute;border-left: 1px solid gray;box-sizing: border-box;top: 0;bottom: 0;left: 50%;z-index: -1;}#sk-container-id-4 div.sk-parallel-item {display: flex;flex-direction: column;z-index: 1;position: relative;background-color: white;}#sk-container-id-4 div.sk-parallel-item:first-child::after {align-self: flex-end;width: 50%;}#sk-container-id-4 div.sk-parallel-item:last-child::after {align-self: flex-start;width: 50%;}#sk-container-id-4 div.sk-parallel-item:only-child::after {width: 0;}#sk-container-id-4 div.sk-dashed-wrapped {border: 1px dashed gray;margin: 0 0.4em 0.5em 0.4em;box-sizing: border-box;padding-bottom: 0.4em;background-color: white;}#sk-container-id-4 div.sk-label label {font-family: monospace;font-weight: bold;display: inline-block;line-height: 1.2em;}#sk-container-id-4 div.sk-label-container {text-align: center;}#sk-container-id-4 div.sk-container {/* jupyter's `normalize.less` sets `[hidden] { display: none; }` but bootstrap.min.css set `[hidden] { display: none !important; }` so we also need the `!important` here to be able to override the default hidden behavior on the sphinx rendered scikit-learn.org. See: https://github.com/scikit-learn/scikit-learn/issues/21755 */display: inline-block !important;position: relative;}#sk-container-id-4 div.sk-text-repr-fallback {display: none;}</style><div id=\"sk-container-id-4\" class=\"sk-top-container\"><div class=\"sk-text-repr-fallback\"><pre>GridSearchCV(cv=10, estimator=SVC(),\n",
       "             param_grid={&#x27;C&#x27;: array([ 0.1,  1.2,  2.3,  3.4,  4.5,  5.6,  6.7,  7.8,  8.9, 10. ]),\n",
       "                         &#x27;kernel&#x27;: [&#x27;linear&#x27;, &#x27;rbf&#x27;]},\n",
       "             return_train_score=True)</pre><b>In a Jupyter environment, please rerun this cell to show the HTML representation or trust the notebook. <br />On GitHub, the HTML representation is unable to render, please try loading this page with nbviewer.org.</b></div><div class=\"sk-container\" hidden><div class=\"sk-item sk-dashed-wrapped\"><div class=\"sk-label-container\"><div class=\"sk-label sk-toggleable\"><input class=\"sk-toggleable__control sk-hidden--visually\" id=\"sk-estimator-id-8\" type=\"checkbox\" ><label for=\"sk-estimator-id-8\" class=\"sk-toggleable__label sk-toggleable__label-arrow\">GridSearchCV</label><div class=\"sk-toggleable__content\"><pre>GridSearchCV(cv=10, estimator=SVC(),\n",
       "             param_grid={&#x27;C&#x27;: array([ 0.1,  1.2,  2.3,  3.4,  4.5,  5.6,  6.7,  7.8,  8.9, 10. ]),\n",
       "                         &#x27;kernel&#x27;: [&#x27;linear&#x27;, &#x27;rbf&#x27;]},\n",
       "             return_train_score=True)</pre></div></div></div><div class=\"sk-parallel\"><div class=\"sk-parallel-item\"><div class=\"sk-item\"><div class=\"sk-label-container\"><div class=\"sk-label sk-toggleable\"><input class=\"sk-toggleable__control sk-hidden--visually\" id=\"sk-estimator-id-9\" type=\"checkbox\" ><label for=\"sk-estimator-id-9\" class=\"sk-toggleable__label sk-toggleable__label-arrow\">estimator: SVC</label><div class=\"sk-toggleable__content\"><pre>SVC()</pre></div></div></div><div class=\"sk-serial\"><div class=\"sk-item\"><div class=\"sk-estimator sk-toggleable\"><input class=\"sk-toggleable__control sk-hidden--visually\" id=\"sk-estimator-id-10\" type=\"checkbox\" ><label for=\"sk-estimator-id-10\" class=\"sk-toggleable__label sk-toggleable__label-arrow\">SVC</label><div class=\"sk-toggleable__content\"><pre>SVC()</pre></div></div></div></div></div></div></div></div></div></div>"
      ],
      "text/plain": [
       "GridSearchCV(cv=10, estimator=SVC(),\n",
       "             param_grid={'C': array([ 0.1,  1.2,  2.3,  3.4,  4.5,  5.6,  6.7,  7.8,  8.9, 10. ]),\n",
       "                         'kernel': ['linear', 'rbf']},\n",
       "             return_train_score=True)"
      ]
     },
     "execution_count": 39,
     "metadata": {},
     "output_type": "execute_result"
    }
   ],
   "source": [
    "# Create a SVC classifier\n",
    "clf = SVC()\n",
    "\n",
    "# Create a grid of hyperparameters to search\n",
    "param_grid = {'C': np.linspace(0.1, 10.0, 10), 'kernel': ['linear', 'rbf']}\n",
    "\n",
    "# Create a GridSearchCV object\n",
    "grid = GridSearchCV(clf, param_grid, cv=10, return_train_score=True)\n",
    "grid.fit(train_data_transformed, train_data_labels)"
   ]
  },
  {
   "cell_type": "code",
   "execution_count": 40,
   "id": "b5070bac",
   "metadata": {
    "execution": {
     "iopub.execute_input": "2023-07-23T09:37:12.839099Z",
     "iopub.status.busy": "2023-07-23T09:37:12.838711Z",
     "iopub.status.idle": "2023-07-23T09:37:12.844722Z",
     "shell.execute_reply": "2023-07-23T09:37:12.843693Z"
    },
    "papermill": {
     "duration": 0.031825,
     "end_time": "2023-07-23T09:37:12.847197",
     "exception": false,
     "start_time": "2023-07-23T09:37:12.815372",
     "status": "completed"
    },
    "tags": []
   },
   "outputs": [
    {
     "name": "stdout",
     "output_type": "stream",
     "text": [
      "Best estimator:  SVC(C=2.3000000000000003)\n",
      "Best params {'C': 2.3000000000000003, 'kernel': 'rbf'}\n",
      "Accuracy: 0.8282771535580526\n"
     ]
    }
   ],
   "source": [
    "print(\"Best estimator: \", grid.best_estimator_)\n",
    "print(\"Best params\", grid.best_params_)\n",
    "print(\"Accuracy: \" + str(grid.best_score_))"
   ]
  },
  {
   "cell_type": "code",
   "execution_count": 41,
   "id": "8e4026e8",
   "metadata": {
    "execution": {
     "iopub.execute_input": "2023-07-23T09:37:12.892866Z",
     "iopub.status.busy": "2023-07-23T09:37:12.892455Z",
     "iopub.status.idle": "2023-07-23T09:37:12.907888Z",
     "shell.execute_reply": "2023-07-23T09:37:12.906777Z"
    },
    "papermill": {
     "duration": 0.041381,
     "end_time": "2023-07-23T09:37:12.910381",
     "exception": false,
     "start_time": "2023-07-23T09:37:12.869000",
     "status": "completed"
    },
    "tags": []
   },
   "outputs": [],
   "source": [
    "best_model = grid.best_estimator_\n",
    "predictions = best_model.predict(test_data_prepared)"
   ]
  },
  {
   "cell_type": "code",
   "execution_count": 42,
   "id": "a9124e79",
   "metadata": {
    "execution": {
     "iopub.execute_input": "2023-07-23T09:37:12.956869Z",
     "iopub.status.busy": "2023-07-23T09:37:12.956080Z",
     "iopub.status.idle": "2023-07-23T09:37:12.968346Z",
     "shell.execute_reply": "2023-07-23T09:37:12.966989Z"
    },
    "papermill": {
     "duration": 0.038485,
     "end_time": "2023-07-23T09:37:12.971120",
     "exception": false,
     "start_time": "2023-07-23T09:37:12.932635",
     "status": "completed"
    },
    "tags": []
   },
   "outputs": [],
   "source": [
    "output = pd.DataFrame({'PassengerId': test_data.PassengerId, 'Survived': predictions})\n",
    "output.to_csv('submission.csv', index=False)"
   ]
  },
  {
   "cell_type": "code",
   "execution_count": 43,
   "id": "b3c26faf",
   "metadata": {
    "execution": {
     "iopub.execute_input": "2023-07-23T09:37:13.016792Z",
     "iopub.status.busy": "2023-07-23T09:37:13.016365Z",
     "iopub.status.idle": "2023-07-23T09:37:13.027858Z",
     "shell.execute_reply": "2023-07-23T09:37:13.026975Z"
    },
    "papermill": {
     "duration": 0.036686,
     "end_time": "2023-07-23T09:37:13.029917",
     "exception": false,
     "start_time": "2023-07-23T09:37:12.993231",
     "status": "completed"
    },
    "tags": []
   },
   "outputs": [
    {
     "data": {
      "text/html": [
       "<div>\n",
       "<style scoped>\n",
       "    .dataframe tbody tr th:only-of-type {\n",
       "        vertical-align: middle;\n",
       "    }\n",
       "\n",
       "    .dataframe tbody tr th {\n",
       "        vertical-align: top;\n",
       "    }\n",
       "\n",
       "    .dataframe thead th {\n",
       "        text-align: right;\n",
       "    }\n",
       "</style>\n",
       "<table border=\"1\" class=\"dataframe\">\n",
       "  <thead>\n",
       "    <tr style=\"text-align: right;\">\n",
       "      <th></th>\n",
       "      <th>PassengerId</th>\n",
       "      <th>Survived</th>\n",
       "    </tr>\n",
       "  </thead>\n",
       "  <tbody>\n",
       "    <tr>\n",
       "      <th>0</th>\n",
       "      <td>892</td>\n",
       "      <td>0</td>\n",
       "    </tr>\n",
       "    <tr>\n",
       "      <th>1</th>\n",
       "      <td>893</td>\n",
       "      <td>0</td>\n",
       "    </tr>\n",
       "    <tr>\n",
       "      <th>2</th>\n",
       "      <td>894</td>\n",
       "      <td>0</td>\n",
       "    </tr>\n",
       "    <tr>\n",
       "      <th>3</th>\n",
       "      <td>895</td>\n",
       "      <td>0</td>\n",
       "    </tr>\n",
       "    <tr>\n",
       "      <th>4</th>\n",
       "      <td>896</td>\n",
       "      <td>0</td>\n",
       "    </tr>\n",
       "    <tr>\n",
       "      <th>...</th>\n",
       "      <td>...</td>\n",
       "      <td>...</td>\n",
       "    </tr>\n",
       "    <tr>\n",
       "      <th>413</th>\n",
       "      <td>1305</td>\n",
       "      <td>0</td>\n",
       "    </tr>\n",
       "    <tr>\n",
       "      <th>414</th>\n",
       "      <td>1306</td>\n",
       "      <td>1</td>\n",
       "    </tr>\n",
       "    <tr>\n",
       "      <th>415</th>\n",
       "      <td>1307</td>\n",
       "      <td>0</td>\n",
       "    </tr>\n",
       "    <tr>\n",
       "      <th>416</th>\n",
       "      <td>1308</td>\n",
       "      <td>0</td>\n",
       "    </tr>\n",
       "    <tr>\n",
       "      <th>417</th>\n",
       "      <td>1309</td>\n",
       "      <td>0</td>\n",
       "    </tr>\n",
       "  </tbody>\n",
       "</table>\n",
       "<p>418 rows × 2 columns</p>\n",
       "</div>"
      ],
      "text/plain": [
       "     PassengerId  Survived\n",
       "0            892         0\n",
       "1            893         0\n",
       "2            894         0\n",
       "3            895         0\n",
       "4            896         0\n",
       "..           ...       ...\n",
       "413         1305         0\n",
       "414         1306         1\n",
       "415         1307         0\n",
       "416         1308         0\n",
       "417         1309         0\n",
       "\n",
       "[418 rows x 2 columns]"
      ]
     },
     "execution_count": 43,
     "metadata": {},
     "output_type": "execute_result"
    }
   ],
   "source": [
    "output"
   ]
  },
  {
   "cell_type": "code",
   "execution_count": null,
   "id": "f6cda696",
   "metadata": {
    "papermill": {
     "duration": 0.021661,
     "end_time": "2023-07-23T09:37:13.073756",
     "exception": false,
     "start_time": "2023-07-23T09:37:13.052095",
     "status": "completed"
    },
    "tags": []
   },
   "outputs": [],
   "source": []
  }
 ],
 "metadata": {
  "kernelspec": {
   "display_name": "Python 3",
   "language": "python",
   "name": "python3"
  },
  "language_info": {
   "codemirror_mode": {
    "name": "ipython",
    "version": 3
   },
   "file_extension": ".py",
   "mimetype": "text/x-python",
   "name": "python",
   "nbconvert_exporter": "python",
   "pygments_lexer": "ipython3",
   "version": "3.10.10"
  },
  "papermill": {
   "default_parameters": {},
   "duration": 123.320255,
   "end_time": "2023-07-23T09:37:14.017632",
   "environment_variables": {},
   "exception": null,
   "input_path": "__notebook__.ipynb",
   "output_path": "__notebook__.ipynb",
   "parameters": {},
   "start_time": "2023-07-23T09:35:10.697377",
   "version": "2.4.0"
  }
 },
 "nbformat": 4,
 "nbformat_minor": 5
}
